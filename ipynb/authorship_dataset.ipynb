{
  "nbformat": 4,
  "nbformat_minor": 0,
  "metadata": {
    "colab": {
      "name": "authorship_dataset.ipynb",
      "provenance": [],
      "collapsed_sections": []
    },
    "kernelspec": {
      "name": "python3",
      "display_name": "Python 3"
    },
    "language_info": {
      "name": "python"
    },
    "widgets": {
      "application/vnd.jupyter.widget-state+json": {
        "6c1dae3cdd1a44189a99becf70579f9b": {
          "model_module": "@jupyter-widgets/controls",
          "model_name": "HBoxModel",
          "state": {
            "_view_name": "HBoxView",
            "_dom_classes": [],
            "_model_name": "HBoxModel",
            "_view_module": "@jupyter-widgets/controls",
            "_model_module_version": "1.5.0",
            "_view_count": null,
            "_view_module_version": "1.5.0",
            "box_style": "",
            "layout": "IPY_MODEL_55255cd0d12c477bab17700028e5db68",
            "_model_module": "@jupyter-widgets/controls",
            "children": [
              "IPY_MODEL_09347345c0a94461a8d8bd5887ce92a2",
              "IPY_MODEL_199acba7d075499599d0426936d1d272"
            ]
          }
        },
        "55255cd0d12c477bab17700028e5db68": {
          "model_module": "@jupyter-widgets/base",
          "model_name": "LayoutModel",
          "state": {
            "_view_name": "LayoutView",
            "grid_template_rows": null,
            "right": null,
            "justify_content": null,
            "_view_module": "@jupyter-widgets/base",
            "overflow": null,
            "_model_module_version": "1.2.0",
            "_view_count": null,
            "flex_flow": null,
            "width": null,
            "min_width": null,
            "border": null,
            "align_items": null,
            "bottom": null,
            "_model_module": "@jupyter-widgets/base",
            "top": null,
            "grid_column": null,
            "overflow_y": null,
            "overflow_x": null,
            "grid_auto_flow": null,
            "grid_area": null,
            "grid_template_columns": null,
            "flex": null,
            "_model_name": "LayoutModel",
            "justify_items": null,
            "grid_row": null,
            "max_height": null,
            "align_content": null,
            "visibility": null,
            "align_self": null,
            "height": null,
            "min_height": null,
            "padding": null,
            "grid_auto_rows": null,
            "grid_gap": null,
            "max_width": null,
            "order": null,
            "_view_module_version": "1.2.0",
            "grid_template_areas": null,
            "object_position": null,
            "object_fit": null,
            "grid_auto_columns": null,
            "margin": null,
            "display": null,
            "left": null
          }
        },
        "09347345c0a94461a8d8bd5887ce92a2": {
          "model_module": "@jupyter-widgets/controls",
          "model_name": "FloatProgressModel",
          "state": {
            "_view_name": "ProgressView",
            "style": "IPY_MODEL_a89f0a7e730142c692aa03b53dd36fa5",
            "_dom_classes": [],
            "description": "",
            "_model_name": "FloatProgressModel",
            "bar_style": "success",
            "max": 1,
            "_view_module": "@jupyter-widgets/controls",
            "_model_module_version": "1.5.0",
            "value": 1,
            "_view_count": null,
            "_view_module_version": "1.5.0",
            "orientation": "horizontal",
            "min": 0,
            "description_tooltip": null,
            "_model_module": "@jupyter-widgets/controls",
            "layout": "IPY_MODEL_a3a6cea0ace740caa4f977fb555eb6c6"
          }
        },
        "199acba7d075499599d0426936d1d272": {
          "model_module": "@jupyter-widgets/controls",
          "model_name": "HTMLModel",
          "state": {
            "_view_name": "HTMLView",
            "style": "IPY_MODEL_c5c3f7fe131c4aa9ad84c6ea450845f2",
            "_dom_classes": [],
            "description": "",
            "_model_name": "HTMLModel",
            "placeholder": "​",
            "_view_module": "@jupyter-widgets/controls",
            "_model_module_version": "1.5.0",
            "value": " 29551/? [05:10&lt;00:00, 95.16it/s]",
            "_view_count": null,
            "_view_module_version": "1.5.0",
            "description_tooltip": null,
            "_model_module": "@jupyter-widgets/controls",
            "layout": "IPY_MODEL_89121ba312de46a39d7a611cbf9ffb9b"
          }
        },
        "a89f0a7e730142c692aa03b53dd36fa5": {
          "model_module": "@jupyter-widgets/controls",
          "model_name": "ProgressStyleModel",
          "state": {
            "_view_name": "StyleView",
            "_model_name": "ProgressStyleModel",
            "description_width": "initial",
            "_view_module": "@jupyter-widgets/base",
            "_model_module_version": "1.5.0",
            "_view_count": null,
            "_view_module_version": "1.2.0",
            "bar_color": null,
            "_model_module": "@jupyter-widgets/controls"
          }
        },
        "a3a6cea0ace740caa4f977fb555eb6c6": {
          "model_module": "@jupyter-widgets/base",
          "model_name": "LayoutModel",
          "state": {
            "_view_name": "LayoutView",
            "grid_template_rows": null,
            "right": null,
            "justify_content": null,
            "_view_module": "@jupyter-widgets/base",
            "overflow": null,
            "_model_module_version": "1.2.0",
            "_view_count": null,
            "flex_flow": null,
            "width": null,
            "min_width": null,
            "border": null,
            "align_items": null,
            "bottom": null,
            "_model_module": "@jupyter-widgets/base",
            "top": null,
            "grid_column": null,
            "overflow_y": null,
            "overflow_x": null,
            "grid_auto_flow": null,
            "grid_area": null,
            "grid_template_columns": null,
            "flex": null,
            "_model_name": "LayoutModel",
            "justify_items": null,
            "grid_row": null,
            "max_height": null,
            "align_content": null,
            "visibility": null,
            "align_self": null,
            "height": null,
            "min_height": null,
            "padding": null,
            "grid_auto_rows": null,
            "grid_gap": null,
            "max_width": null,
            "order": null,
            "_view_module_version": "1.2.0",
            "grid_template_areas": null,
            "object_position": null,
            "object_fit": null,
            "grid_auto_columns": null,
            "margin": null,
            "display": null,
            "left": null
          }
        },
        "c5c3f7fe131c4aa9ad84c6ea450845f2": {
          "model_module": "@jupyter-widgets/controls",
          "model_name": "DescriptionStyleModel",
          "state": {
            "_view_name": "StyleView",
            "_model_name": "DescriptionStyleModel",
            "description_width": "",
            "_view_module": "@jupyter-widgets/base",
            "_model_module_version": "1.5.0",
            "_view_count": null,
            "_view_module_version": "1.2.0",
            "_model_module": "@jupyter-widgets/controls"
          }
        },
        "89121ba312de46a39d7a611cbf9ffb9b": {
          "model_module": "@jupyter-widgets/base",
          "model_name": "LayoutModel",
          "state": {
            "_view_name": "LayoutView",
            "grid_template_rows": null,
            "right": null,
            "justify_content": null,
            "_view_module": "@jupyter-widgets/base",
            "overflow": null,
            "_model_module_version": "1.2.0",
            "_view_count": null,
            "flex_flow": null,
            "width": null,
            "min_width": null,
            "border": null,
            "align_items": null,
            "bottom": null,
            "_model_module": "@jupyter-widgets/base",
            "top": null,
            "grid_column": null,
            "overflow_y": null,
            "overflow_x": null,
            "grid_auto_flow": null,
            "grid_area": null,
            "grid_template_columns": null,
            "flex": null,
            "_model_name": "LayoutModel",
            "justify_items": null,
            "grid_row": null,
            "max_height": null,
            "align_content": null,
            "visibility": null,
            "align_self": null,
            "height": null,
            "min_height": null,
            "padding": null,
            "grid_auto_rows": null,
            "grid_gap": null,
            "max_width": null,
            "order": null,
            "_view_module_version": "1.2.0",
            "grid_template_areas": null,
            "object_position": null,
            "object_fit": null,
            "grid_auto_columns": null,
            "margin": null,
            "display": null,
            "left": null
          }
        },
        "7c7fb0410a8e46e0aa39cd06e273ac95": {
          "model_module": "@jupyter-widgets/controls",
          "model_name": "HBoxModel",
          "state": {
            "_view_name": "HBoxView",
            "_dom_classes": [],
            "_model_name": "HBoxModel",
            "_view_module": "@jupyter-widgets/controls",
            "_model_module_version": "1.5.0",
            "_view_count": null,
            "_view_module_version": "1.5.0",
            "box_style": "",
            "layout": "IPY_MODEL_ff659252c04041e2b09d7d145ae7aba4",
            "_model_module": "@jupyter-widgets/controls",
            "children": [
              "IPY_MODEL_def78f829d424945ad70e950f68f9475",
              "IPY_MODEL_e96490a8f1da4d45b7392188ee30bbbc"
            ]
          }
        },
        "ff659252c04041e2b09d7d145ae7aba4": {
          "model_module": "@jupyter-widgets/base",
          "model_name": "LayoutModel",
          "state": {
            "_view_name": "LayoutView",
            "grid_template_rows": null,
            "right": null,
            "justify_content": null,
            "_view_module": "@jupyter-widgets/base",
            "overflow": null,
            "_model_module_version": "1.2.0",
            "_view_count": null,
            "flex_flow": null,
            "width": null,
            "min_width": null,
            "border": null,
            "align_items": null,
            "bottom": null,
            "_model_module": "@jupyter-widgets/base",
            "top": null,
            "grid_column": null,
            "overflow_y": null,
            "overflow_x": null,
            "grid_auto_flow": null,
            "grid_area": null,
            "grid_template_columns": null,
            "flex": null,
            "_model_name": "LayoutModel",
            "justify_items": null,
            "grid_row": null,
            "max_height": null,
            "align_content": null,
            "visibility": null,
            "align_self": null,
            "height": null,
            "min_height": null,
            "padding": null,
            "grid_auto_rows": null,
            "grid_gap": null,
            "max_width": null,
            "order": null,
            "_view_module_version": "1.2.0",
            "grid_template_areas": null,
            "object_position": null,
            "object_fit": null,
            "grid_auto_columns": null,
            "margin": null,
            "display": null,
            "left": null
          }
        },
        "def78f829d424945ad70e950f68f9475": {
          "model_module": "@jupyter-widgets/controls",
          "model_name": "FloatProgressModel",
          "state": {
            "_view_name": "ProgressView",
            "style": "IPY_MODEL_3bbeddbaaffd46429cac1aa4cfd6b6cc",
            "_dom_classes": [],
            "description": "100%",
            "_model_name": "FloatProgressModel",
            "bar_style": "success",
            "max": 12925,
            "_view_module": "@jupyter-widgets/controls",
            "_model_module_version": "1.5.0",
            "value": 12925,
            "_view_count": null,
            "_view_module_version": "1.5.0",
            "orientation": "horizontal",
            "min": 0,
            "description_tooltip": null,
            "_model_module": "@jupyter-widgets/controls",
            "layout": "IPY_MODEL_76aa5597bbb04c43ac9d7b3986afbb4f"
          }
        },
        "e96490a8f1da4d45b7392188ee30bbbc": {
          "model_module": "@jupyter-widgets/controls",
          "model_name": "HTMLModel",
          "state": {
            "_view_name": "HTMLView",
            "style": "IPY_MODEL_db16321a91314312afdba2d7748860de",
            "_dom_classes": [],
            "description": "",
            "_model_name": "HTMLModel",
            "placeholder": "​",
            "_view_module": "@jupyter-widgets/controls",
            "_model_module_version": "1.5.0",
            "value": " 12925/12925 [01:00&lt;00:00, 213.31it/s]",
            "_view_count": null,
            "_view_module_version": "1.5.0",
            "description_tooltip": null,
            "_model_module": "@jupyter-widgets/controls",
            "layout": "IPY_MODEL_e400aaa498a64dabb12dd1886b4fc76b"
          }
        },
        "3bbeddbaaffd46429cac1aa4cfd6b6cc": {
          "model_module": "@jupyter-widgets/controls",
          "model_name": "ProgressStyleModel",
          "state": {
            "_view_name": "StyleView",
            "_model_name": "ProgressStyleModel",
            "description_width": "initial",
            "_view_module": "@jupyter-widgets/base",
            "_model_module_version": "1.5.0",
            "_view_count": null,
            "_view_module_version": "1.2.0",
            "bar_color": null,
            "_model_module": "@jupyter-widgets/controls"
          }
        },
        "76aa5597bbb04c43ac9d7b3986afbb4f": {
          "model_module": "@jupyter-widgets/base",
          "model_name": "LayoutModel",
          "state": {
            "_view_name": "LayoutView",
            "grid_template_rows": null,
            "right": null,
            "justify_content": null,
            "_view_module": "@jupyter-widgets/base",
            "overflow": null,
            "_model_module_version": "1.2.0",
            "_view_count": null,
            "flex_flow": null,
            "width": null,
            "min_width": null,
            "border": null,
            "align_items": null,
            "bottom": null,
            "_model_module": "@jupyter-widgets/base",
            "top": null,
            "grid_column": null,
            "overflow_y": null,
            "overflow_x": null,
            "grid_auto_flow": null,
            "grid_area": null,
            "grid_template_columns": null,
            "flex": null,
            "_model_name": "LayoutModel",
            "justify_items": null,
            "grid_row": null,
            "max_height": null,
            "align_content": null,
            "visibility": null,
            "align_self": null,
            "height": null,
            "min_height": null,
            "padding": null,
            "grid_auto_rows": null,
            "grid_gap": null,
            "max_width": null,
            "order": null,
            "_view_module_version": "1.2.0",
            "grid_template_areas": null,
            "object_position": null,
            "object_fit": null,
            "grid_auto_columns": null,
            "margin": null,
            "display": null,
            "left": null
          }
        },
        "db16321a91314312afdba2d7748860de": {
          "model_module": "@jupyter-widgets/controls",
          "model_name": "DescriptionStyleModel",
          "state": {
            "_view_name": "StyleView",
            "_model_name": "DescriptionStyleModel",
            "description_width": "",
            "_view_module": "@jupyter-widgets/base",
            "_model_module_version": "1.5.0",
            "_view_count": null,
            "_view_module_version": "1.2.0",
            "_model_module": "@jupyter-widgets/controls"
          }
        },
        "e400aaa498a64dabb12dd1886b4fc76b": {
          "model_module": "@jupyter-widgets/base",
          "model_name": "LayoutModel",
          "state": {
            "_view_name": "LayoutView",
            "grid_template_rows": null,
            "right": null,
            "justify_content": null,
            "_view_module": "@jupyter-widgets/base",
            "overflow": null,
            "_model_module_version": "1.2.0",
            "_view_count": null,
            "flex_flow": null,
            "width": null,
            "min_width": null,
            "border": null,
            "align_items": null,
            "bottom": null,
            "_model_module": "@jupyter-widgets/base",
            "top": null,
            "grid_column": null,
            "overflow_y": null,
            "overflow_x": null,
            "grid_auto_flow": null,
            "grid_area": null,
            "grid_template_columns": null,
            "flex": null,
            "_model_name": "LayoutModel",
            "justify_items": null,
            "grid_row": null,
            "max_height": null,
            "align_content": null,
            "visibility": null,
            "align_self": null,
            "height": null,
            "min_height": null,
            "padding": null,
            "grid_auto_rows": null,
            "grid_gap": null,
            "max_width": null,
            "order": null,
            "_view_module_version": "1.2.0",
            "grid_template_areas": null,
            "object_position": null,
            "object_fit": null,
            "grid_auto_columns": null,
            "margin": null,
            "display": null,
            "left": null
          }
        }
      }
    }
  },
  "cells": [
    {
      "cell_type": "code",
      "metadata": {
        "id": "BX3dVDf_AxfG"
      },
      "source": [
        "import pandas as pd"
      ],
      "execution_count": 223,
      "outputs": []
    },
    {
      "cell_type": "markdown",
      "metadata": {
        "id": "GCEplV0XfGgZ"
      },
      "source": [
        "---"
      ]
    },
    {
      "cell_type": "code",
      "metadata": {
        "id": "lvrOJ8_gew2J"
      },
      "source": [
        "default_df = pd.read_csv(\"default_citation_metadata.csv\", header=0, index_col=0)"
      ],
      "execution_count": 224,
      "outputs": []
    },
    {
      "cell_type": "code",
      "metadata": {
        "id": "B9d0LyItA7wz"
      },
      "source": [
        "broken_citations = pd.read_csv(\"clear_citation_metadata.csv\", header=0, sep=\";\", index_col=0)"
      ],
      "execution_count": 225,
      "outputs": []
    },
    {
      "cell_type": "code",
      "metadata": {
        "id": "utsEQCKwfKP-"
      },
      "source": [
        "citations = pd.concat([broken_citations.iloc[:, :2], default_df.iloc[:, 2:]], axis=1)"
      ],
      "execution_count": 226,
      "outputs": []
    },
    {
      "cell_type": "markdown",
      "metadata": {
        "id": "Pr_ekIw4fJcG"
      },
      "source": [
        "---"
      ]
    },
    {
      "cell_type": "code",
      "metadata": {
        "id": "lOyE11tGETg6"
      },
      "source": [
        "citations = citations.dropna(subset=['authors']);"
      ],
      "execution_count": 227,
      "outputs": []
    },
    {
      "cell_type": "code",
      "metadata": {
        "id": "DfKCzTcOyZLB"
      },
      "source": [
        "citations.replace(\"High-Energy Physics - Theory\", \"High Energy Physics - Theory\", inplace=True)\n",
        "citations[\"subjects\"].fillna(\"High Energy Physics - Theory\", inplace=True)\n",
        "citations.replace(r\"Probability Theory\", \"Statistics and Probability\", regex=True, inplace=True)\n",
        "citations.replace(r\"Quantum Algebra\", \"Quantum\", regex=True, inplace=True)"
      ],
      "execution_count": 229,
      "outputs": []
    },
    {
      "cell_type": "code",
      "metadata": {
        "id": "qqigTm8ABMmZ",
        "colab": {
          "base_uri": "https://localhost:8080/",
          "height": 589
        },
        "outputId": "eb389eda-2c64-4981-f4bd-cc0588c27429"
      },
      "source": [
        "citations"
      ],
      "execution_count": 230,
      "outputs": [
        {
          "output_type": "execute_result",
          "data": {
            "text/html": [
              "<div>\n",
              "<style scoped>\n",
              "    .dataframe tbody tr th:only-of-type {\n",
              "        vertical-align: middle;\n",
              "    }\n",
              "\n",
              "    .dataframe tbody tr th {\n",
              "        vertical-align: top;\n",
              "    }\n",
              "\n",
              "    .dataframe thead th {\n",
              "        text-align: right;\n",
              "    }\n",
              "</style>\n",
              "<table border=\"1\" class=\"dataframe\">\n",
              "  <thead>\n",
              "    <tr style=\"text-align: right;\">\n",
              "      <th></th>\n",
              "      <th>paper_id</th>\n",
              "      <th>authors</th>\n",
              "      <th>title</th>\n",
              "      <th>abstract</th>\n",
              "      <th>subjects</th>\n",
              "      <th>comments</th>\n",
              "    </tr>\n",
              "  </thead>\n",
              "  <tbody>\n",
              "    <tr>\n",
              "      <th>0</th>\n",
              "      <td>9810034</td>\n",
              "      <td>Anastasia Doikou, Rafael I. Nepomechie</td>\n",
              "      <td>Parity and Charge Conjugation Symmetries and S...</td>\n",
              "      <td>We formulate the notion of parity for the peri...</td>\n",
              "      <td>High Energy Physics - Theory, Exactly Solvable...</td>\n",
              "      <td>20</td>\n",
              "    </tr>\n",
              "    <tr>\n",
              "      <th>1</th>\n",
              "      <td>201111</td>\n",
              "      <td>G. Papadopoulos</td>\n",
              "      <td>KT and HKT Geometries in Strings and in Black ...</td>\n",
              "      <td>Some selected applications of KT and HKT geome...</td>\n",
              "      <td>High Energy Physics - Theory, Differential Geo...</td>\n",
              "      <td>26</td>\n",
              "    </tr>\n",
              "    <tr>\n",
              "      <th>2</th>\n",
              "      <td>9210111</td>\n",
              "      <td>A. P. Balachandran</td>\n",
              "      <td>Gauge Symmetries,Topology and Quantisation</td>\n",
              "      <td>The following two loosely connected sets of to...</td>\n",
              "      <td>High Energy Physics - Theory</td>\n",
              "      <td>74</td>\n",
              "    </tr>\n",
              "    <tr>\n",
              "      <th>3</th>\n",
              "      <td>9303104</td>\n",
              "      <td>P. Berglund</td>\n",
              "      <td>Dimensionally Reduced Landau-Ginzburg Orbifold...</td>\n",
              "      <td>It is observed that a large class of $(2,2)$ s...</td>\n",
              "      <td>High Energy Physics - Theory</td>\n",
              "      <td>10</td>\n",
              "    </tr>\n",
              "    <tr>\n",
              "      <th>4</th>\n",
              "      <td>9509068</td>\n",
              "      <td>Tae Seong Kim, Won Ho Kye, Jae Kwan Kim</td>\n",
              "      <td>The Dynamical Behaviors in (2+1)-Dimensional G...</td>\n",
              "      <td>We analyze (2+1)-dimensional Gross-Neveu model...</td>\n",
              "      <td>High Energy Physics - Theory</td>\n",
              "      <td>19</td>\n",
              "    </tr>\n",
              "    <tr>\n",
              "      <th>...</th>\n",
              "      <td>...</td>\n",
              "      <td>...</td>\n",
              "      <td>...</td>\n",
              "      <td>...</td>\n",
              "      <td>...</td>\n",
              "      <td>...</td>\n",
              "    </tr>\n",
              "    <tr>\n",
              "      <th>29550</th>\n",
              "      <td>210293</td>\n",
              "      <td>Dmitri Antonov</td>\n",
              "      <td>Finite-temperature properties of the supersymm...</td>\n",
              "      <td>The finite-temperature properties of supersymm...</td>\n",
              "      <td>High Energy Physics - Theory</td>\n",
              "      <td>8</td>\n",
              "    </tr>\n",
              "    <tr>\n",
              "      <th>29551</th>\n",
              "      <td>9310065</td>\n",
              "      <td>Aurelian Isar</td>\n",
              "      <td>Wigner distribution function for the harmonic ...</td>\n",
              "      <td>Time evolution of the expectation values of va...</td>\n",
              "      <td>High Energy Physics - Theory</td>\n",
              "      <td>17</td>\n",
              "    </tr>\n",
              "    <tr>\n",
              "      <th>29552</th>\n",
              "      <td>103002</td>\n",
              "      <td>Kazuto Oshima</td>\n",
              "      <td>Critical Coupling in (1+1)-Dimensional Light-F...</td>\n",
              "      <td>Spontaneous symmetry breaking in (1+1)-dimensi...</td>\n",
              "      <td>High Energy Physics - Theory</td>\n",
              "      <td>21</td>\n",
              "    </tr>\n",
              "    <tr>\n",
              "      <th>29553</th>\n",
              "      <td>9406137</td>\n",
              "      <td>Cesar Gomez, Henri Ruegg, Philippe Zaugg</td>\n",
              "      <td>Lattice Poincare as a quantum deformed algebra</td>\n",
              "      <td>We propose a definition of a Poincar\\'e algebr...</td>\n",
              "      <td>High Energy Physics - Theory</td>\n",
              "      <td>10</td>\n",
              "    </tr>\n",
              "    <tr>\n",
              "      <th>29554</th>\n",
              "      <td>9507054</td>\n",
              "      <td>Sudhakar Panda, Shibaji Roy</td>\n",
              "      <td>BRST Cohomology Ring in ${\\hat c_M}&lt;1$ NSR Str...</td>\n",
              "      <td>The full cohomology ring of the Lian-Zuckerman...</td>\n",
              "      <td>High Energy Physics - Theory</td>\n",
              "      <td>16</td>\n",
              "    </tr>\n",
              "  </tbody>\n",
              "</table>\n",
              "<p>29551 rows × 6 columns</p>\n",
              "</div>"
            ],
            "text/plain": [
              "       paper_id  ... comments\n",
              "0       9810034  ...       20\n",
              "1        201111  ...       26\n",
              "2       9210111  ...       74\n",
              "3       9303104  ...       10\n",
              "4       9509068  ...       19\n",
              "...         ...  ...      ...\n",
              "29550    210293  ...        8\n",
              "29551   9310065  ...       17\n",
              "29552    103002  ...       21\n",
              "29553   9406137  ...       10\n",
              "29554   9507054  ...       16\n",
              "\n",
              "[29551 rows x 6 columns]"
            ]
          },
          "metadata": {
            "tags": []
          },
          "execution_count": 230
        }
      ]
    },
    {
      "cell_type": "markdown",
      "metadata": {
        "id": "hYMuUs0oErH5"
      },
      "source": [
        "---"
      ]
    },
    {
      "cell_type": "code",
      "metadata": {
        "id": "liZdD0K4hxji"
      },
      "source": [
        "def list_from_string(string):\n",
        "    if isinstance(string, str):\n",
        "        return string.split(\", \")\n",
        "    else:\n",
        "        return None\n",
        "\n",
        "def flatlist(t):\n",
        "    flat_list = []\n",
        "    for sublist in t:\n",
        "        if isinstance(sublist, list):\n",
        "            for item in sublist:\n",
        "                flat_list.append(item)\n",
        "        else:\n",
        "            flat_list.append(sublist)\n",
        "    return flat_list\n",
        "\n",
        "def flatset(t):\n",
        "    flat_list = set()\n",
        "    for sublist in t:\n",
        "        if isinstance(sublist, set):\n",
        "            for item in sublist:\n",
        "                flat_list.add(item)\n",
        "        else:\n",
        "            flat_list.add(sublist)\n",
        "    return flat_list\n",
        "\n",
        "def mapper(data):\n",
        "    data2id, id2data = dict(), dict()\n",
        "    for ind, element in enumerate(data):\n",
        "        data2id[element] = ind\n",
        "        id2data[ind] = element\n",
        "    return data2id, id2data"
      ],
      "execution_count": 231,
      "outputs": []
    },
    {
      "cell_type": "code",
      "metadata": {
        "id": "BobfbH4liKKn"
      },
      "source": [
        "class Node:\n",
        "    def __init__(self):\n",
        "        self.author_id = 0\n",
        "        self.interests = set()\n",
        "    def __dict__(self):\n",
        "        return {\"author_id\": self.author_id, \"interests\": self.interests}\n",
        "    def __repr__(self):\n",
        "        return str(self.__dict__())"
      ],
      "execution_count": 232,
      "outputs": []
    },
    {
      "cell_type": "code",
      "metadata": {
        "id": "6Zl0dYAWFv3M"
      },
      "source": [
        "class Edge:\n",
        "    def __init__(self):\n",
        "        self.from_id = 0\n",
        "        self.to_id = 0\n",
        "        self.article_ids = set()\n",
        "    def __dict__(self):\n",
        "        return {\"from_id\": self.from_id, \"to_id\": self.to_id, \"article_ids\": self.article_ids}\n",
        "    def __repr__(self):\n",
        "        return str(self.__dict__())"
      ],
      "execution_count": 233,
      "outputs": []
    },
    {
      "cell_type": "markdown",
      "metadata": {
        "id": "H4IS5g0uiN4N"
      },
      "source": [
        "---"
      ]
    },
    {
      "cell_type": "code",
      "metadata": {
        "id": "HmZEFE5tBP8v"
      },
      "source": [
        "# We need to get all authors and change them to ids\n",
        "authors = flatlist(list(map(list_from_string, citations['authors'].tolist())))\n",
        "author2id, id2author = mapper(list(set(authors)))"
      ],
      "execution_count": 234,
      "outputs": []
    },
    {
      "cell_type": "code",
      "metadata": {
        "id": "txlDhgCAGGnU",
        "colab": {
          "base_uri": "https://localhost:8080/",
          "height": 66,
          "referenced_widgets": [
            "6c1dae3cdd1a44189a99becf70579f9b",
            "55255cd0d12c477bab17700028e5db68",
            "09347345c0a94461a8d8bd5887ce92a2",
            "199acba7d075499599d0426936d1d272",
            "a89f0a7e730142c692aa03b53dd36fa5",
            "a3a6cea0ace740caa4f977fb555eb6c6",
            "c5c3f7fe131c4aa9ad84c6ea450845f2",
            "89121ba312de46a39d7a611cbf9ffb9b"
          ]
        },
        "outputId": "8bc6f93f-bb72-4e61-8d93-13270590655f"
      },
      "source": [
        "from tqdm.notebook import tqdm\n",
        "edges = []\n",
        "for _, article in tqdm(citations.iterrows()):\n",
        "    article_authors = article[\"authors\"]\n",
        "    article_authors = list_from_string(article_authors)\n",
        "    if len(article_authors) > 1:\n",
        "        for from_author_idx in range(len(article_authors)):\n",
        "            for to_author in (article_authors[from_author_idx+1:]):\n",
        "                \n",
        "                from_id = author2id[article_authors[from_author_idx]]\n",
        "                to_id = author2id[to_author]\n",
        "\n",
        "                unique_check = True\n",
        "\n",
        "                for edge in edges:\n",
        "                    if edge.from_id == from_id and edge.to_id == to_id or (edge.from_id == to_id and edge.to_id == from_id):\n",
        "                        unique_check = False\n",
        "                        edge.article_ids.add(article[\"paper_id\"])\n",
        "\n",
        "                if unique_check:\n",
        "                    edge = Edge()\n",
        "                    edge.from_id = from_id\n",
        "                    edge.to_id = to_id\n",
        "                    edge.article_ids.add(article[\"paper_id\"])\n",
        "                    edges.append(edge)"
      ],
      "execution_count": 235,
      "outputs": [
        {
          "output_type": "display_data",
          "data": {
            "application/vnd.jupyter.widget-view+json": {
              "model_id": "6c1dae3cdd1a44189a99becf70579f9b",
              "version_minor": 0,
              "version_major": 2
            },
            "text/plain": [
              "HBox(children=(FloatProgress(value=1.0, bar_style='info', max=1.0), HTML(value='')))"
            ]
          },
          "metadata": {
            "tags": []
          }
        },
        {
          "output_type": "stream",
          "text": [
            "\n"
          ],
          "name": "stdout"
        }
      ]
    },
    {
      "cell_type": "code",
      "metadata": {
        "id": "EK0gS0blIc4f"
      },
      "source": [
        "dict_edges = [edge.__dict__() for edge in edges]"
      ],
      "execution_count": 236,
      "outputs": []
    },
    {
      "cell_type": "code",
      "metadata": {
        "id": "u_r0W6BYFXqO"
      },
      "source": [
        "extended_edge_list = pd.DataFrame(dict_edges)"
      ],
      "execution_count": 237,
      "outputs": []
    },
    {
      "cell_type": "code",
      "metadata": {
        "colab": {
          "base_uri": "https://localhost:8080/",
          "height": 419
        },
        "id": "JgFksrUcOjaD",
        "outputId": "4eb9cab8-31f2-478f-d77d-41b0cd3376e8"
      },
      "source": [
        "extended_edge_list"
      ],
      "execution_count": 238,
      "outputs": [
        {
          "output_type": "execute_result",
          "data": {
            "text/html": [
              "<div>\n",
              "<style scoped>\n",
              "    .dataframe tbody tr th:only-of-type {\n",
              "        vertical-align: middle;\n",
              "    }\n",
              "\n",
              "    .dataframe tbody tr th {\n",
              "        vertical-align: top;\n",
              "    }\n",
              "\n",
              "    .dataframe thead th {\n",
              "        text-align: right;\n",
              "    }\n",
              "</style>\n",
              "<table border=\"1\" class=\"dataframe\">\n",
              "  <thead>\n",
              "    <tr style=\"text-align: right;\">\n",
              "      <th></th>\n",
              "      <th>from_id</th>\n",
              "      <th>to_id</th>\n",
              "      <th>article_ids</th>\n",
              "    </tr>\n",
              "  </thead>\n",
              "  <tbody>\n",
              "    <tr>\n",
              "      <th>0</th>\n",
              "      <td>8950</td>\n",
              "      <td>7794</td>\n",
              "      <td>{9705187, 9808012, 9803118, 9708145, 9810034, ...</td>\n",
              "    </tr>\n",
              "    <tr>\n",
              "      <th>1</th>\n",
              "      <td>9308</td>\n",
              "      <td>3382</td>\n",
              "      <td>{9509068}</td>\n",
              "    </tr>\n",
              "    <tr>\n",
              "      <th>2</th>\n",
              "      <td>9308</td>\n",
              "      <td>3432</td>\n",
              "      <td>{9509068}</td>\n",
              "    </tr>\n",
              "    <tr>\n",
              "      <th>3</th>\n",
              "      <td>3382</td>\n",
              "      <td>3432</td>\n",
              "      <td>{9509068}</td>\n",
              "    </tr>\n",
              "    <tr>\n",
              "      <th>4</th>\n",
              "      <td>9105</td>\n",
              "      <td>673</td>\n",
              "      <td>{211203, 212139, 207127}</td>\n",
              "    </tr>\n",
              "    <tr>\n",
              "      <th>...</th>\n",
              "      <td>...</td>\n",
              "      <td>...</td>\n",
              "      <td>...</td>\n",
              "    </tr>\n",
              "    <tr>\n",
              "      <th>24016</th>\n",
              "      <td>9922</td>\n",
              "      <td>9388</td>\n",
              "      <td>{6021}</td>\n",
              "    </tr>\n",
              "    <tr>\n",
              "      <th>24017</th>\n",
              "      <td>2700</td>\n",
              "      <td>3331</td>\n",
              "      <td>{9708101}</td>\n",
              "    </tr>\n",
              "    <tr>\n",
              "      <th>24018</th>\n",
              "      <td>755</td>\n",
              "      <td>12203</td>\n",
              "      <td>{9406137}</td>\n",
              "    </tr>\n",
              "    <tr>\n",
              "      <th>24019</th>\n",
              "      <td>755</td>\n",
              "      <td>4805</td>\n",
              "      <td>{9406137}</td>\n",
              "    </tr>\n",
              "    <tr>\n",
              "      <th>24020</th>\n",
              "      <td>12203</td>\n",
              "      <td>4805</td>\n",
              "      <td>{9406137}</td>\n",
              "    </tr>\n",
              "  </tbody>\n",
              "</table>\n",
              "<p>24021 rows × 3 columns</p>\n",
              "</div>"
            ],
            "text/plain": [
              "       from_id  to_id                                        article_ids\n",
              "0         8950   7794  {9705187, 9808012, 9803118, 9708145, 9810034, ...\n",
              "1         9308   3382                                          {9509068}\n",
              "2         9308   3432                                          {9509068}\n",
              "3         3382   3432                                          {9509068}\n",
              "4         9105    673                           {211203, 212139, 207127}\n",
              "...        ...    ...                                                ...\n",
              "24016     9922   9388                                             {6021}\n",
              "24017     2700   3331                                          {9708101}\n",
              "24018      755  12203                                          {9406137}\n",
              "24019      755   4805                                          {9406137}\n",
              "24020    12203   4805                                          {9406137}\n",
              "\n",
              "[24021 rows x 3 columns]"
            ]
          },
          "metadata": {
            "tags": []
          },
          "execution_count": 238
        }
      ]
    },
    {
      "cell_type": "code",
      "metadata": {
        "id": "h-x4gmhlOuBn"
      },
      "source": [
        "extended_edge_list.to_csv(\"extended_edge_list.csv\")"
      ],
      "execution_count": 239,
      "outputs": []
    },
    {
      "cell_type": "markdown",
      "metadata": {
        "id": "PEnO1pZjd265"
      },
      "source": [
        "---"
      ]
    },
    {
      "cell_type": "code",
      "metadata": {
        "colab": {
          "base_uri": "https://localhost:8080/"
        },
        "id": "LjaS6aiSxvpy",
        "outputId": "47897287-b378-45d3-b784-7d1803e9cc4e"
      },
      "source": [
        "subjects_tagged = pd.read_csv(\"subjects_tagged.csv\", index_col=1)\n",
        "subjects_tagged.drop(columns=[\"Unnamed: 0\"], inplace=True)\n",
        "subjects_tagged = subjects_tagged.to_dict(\"index\")\n",
        "for subject in subjects_tagged:\n",
        "    subjects_tagged[subject] = subjects_tagged[subject][\"keywords\"].lower().split(\"/\")\n",
        "subject_list = subjects_tagged\n",
        "len(subjects_tagged)"
      ],
      "execution_count": 244,
      "outputs": [
        {
          "output_type": "execute_result",
          "data": {
            "text/plain": [
              "51"
            ]
          },
          "metadata": {
            "tags": []
          },
          "execution_count": 244
        }
      ]
    },
    {
      "cell_type": "code",
      "metadata": {
        "id": "MtjDwplMhe8g"
      },
      "source": [
        "subjects = flatlist(list(map(list_from_string, citations['subjects'].unique().tolist())))\n",
        "subject2id, id2subject = mapper(list(set(subjects)))"
      ],
      "execution_count": 245,
      "outputs": []
    },
    {
      "cell_type": "code",
      "metadata": {
        "colab": {
          "base_uri": "https://localhost:8080/",
          "height": 66,
          "referenced_widgets": [
            "7c7fb0410a8e46e0aa39cd06e273ac95",
            "ff659252c04041e2b09d7d145ae7aba4",
            "def78f829d424945ad70e950f68f9475",
            "e96490a8f1da4d45b7392188ee30bbbc",
            "3bbeddbaaffd46429cac1aa4cfd6b6cc",
            "76aa5597bbb04c43ac9d7b3986afbb4f",
            "db16321a91314312afdba2d7748860de",
            "e400aaa498a64dabb12dd1886b4fc76b"
          ]
        },
        "id": "bWzFY5n8d3py",
        "outputId": "25a0f0c1-c837-42d8-e195-9334e433a2f8"
      },
      "source": [
        "from tqdm.notebook import tqdm\n",
        "nodes = []\n",
        "for author_id in tqdm(id2author.keys()):\n",
        "    node = Node()\n",
        "    node.author_id = author_id\n",
        "    connections = extended_edge_list.loc[(extended_edge_list['from_id'] == author_id) | (extended_edge_list['to_id'] == author_id)]\n",
        "    if not connections.empty:\n",
        "        get_all_articles = list(flatset(connections[\"article_ids\"].tolist()))\n",
        "        all_articles = citations[citations[\"paper_id\"].isin(get_all_articles)]\n",
        "        all_abstracts = all_articles[\"abstract\"].dropna().tolist()\n",
        "        all_abstracts = \" \".join(all_abstracts).lower()\n",
        "        article_abstract_subjects = []\n",
        "        for subject in subject_list:\n",
        "            for keyword in subject_list[subject]:\n",
        "                if keyword in all_abstracts:\n",
        "                    article_abstract_subjects.append(subject)\n",
        "        article_subjects = flatlist(map(list_from_string, all_articles[\"subjects\"].dropna().tolist()))\n",
        "        all_subjects = set(article_abstract_subjects + article_subjects)\n",
        "        if all_subjects:\n",
        "            for subject in all_subjects:\n",
        "                node.interests.add(subject2id[subject])\n",
        "    else:\n",
        "        author_name = id2author[author_id]\n",
        "        all_articles = citations[citations['authors'].str.contains(author_name)]\n",
        "        all_abstracts = all_articles[\"abstract\"].dropna().tolist()\n",
        "        all_abstracts = \" \".join(all_abstracts).lower()\n",
        "        article_abstract_subjects = []\n",
        "        for subject in subject_list:\n",
        "            for keyword in subject_list[subject]:\n",
        "                if keyword in all_abstracts:\n",
        "                    article_abstract_subjects.append(subject)\n",
        "        article_subjects = flatlist(map(list_from_string, all_articles[\"subjects\"].dropna().tolist()))\n",
        "        all_subjects = set(article_abstract_subjects + article_subjects)\n",
        "        if all_subjects:\n",
        "            for subject in all_subjects:\n",
        "                node.interests.add(subject2id[subject])\n",
        "    nodes.append(node)"
      ],
      "execution_count": 266,
      "outputs": [
        {
          "output_type": "display_data",
          "data": {
            "application/vnd.jupyter.widget-view+json": {
              "model_id": "7c7fb0410a8e46e0aa39cd06e273ac95",
              "version_minor": 0,
              "version_major": 2
            },
            "text/plain": [
              "HBox(children=(FloatProgress(value=0.0, max=12925.0), HTML(value='')))"
            ]
          },
          "metadata": {
            "tags": []
          }
        },
        {
          "output_type": "stream",
          "text": [
            "\n"
          ],
          "name": "stdout"
        }
      ]
    },
    {
      "cell_type": "code",
      "metadata": {
        "id": "BMubHTYdq7jC"
      },
      "source": [
        "dict_nodes = [node.__dict__() for node in nodes]"
      ],
      "execution_count": 267,
      "outputs": []
    },
    {
      "cell_type": "code",
      "metadata": {
        "id": "2V9XEDoTpf0B"
      },
      "source": [
        "author_features_list = pd.DataFrame(dict_nodes)"
      ],
      "execution_count": 268,
      "outputs": []
    },
    {
      "cell_type": "code",
      "metadata": {
        "id": "WnKEsF-DrFnh"
      },
      "source": [
        "author_features_list"
      ],
      "execution_count": null,
      "outputs": []
    },
    {
      "cell_type": "code",
      "metadata": {
        "id": "hkxow1kosCBG"
      },
      "source": [
        "author_features_list.to_csv(\"author_feature_list.csv\")"
      ],
      "execution_count": 270,
      "outputs": []
    },
    {
      "cell_type": "markdown",
      "metadata": {
        "id": "EfrrcsY6sFA2"
      },
      "source": [
        "---"
      ]
    },
    {
      "cell_type": "code",
      "metadata": {
        "id": "oig85OVjsFiS"
      },
      "source": [
        "id2author_df = pd.DataFrame(data=id2author.items(), columns=[\"id\", \"author\"])\n",
        "id2author_df = id2author_df.set_index(\"id\")\n",
        "id2author_df.to_csv(\"id_2_author.csv\")"
      ],
      "execution_count": 259,
      "outputs": []
    },
    {
      "cell_type": "code",
      "metadata": {
        "colab": {
          "base_uri": "https://localhost:8080/",
          "height": 450
        },
        "id": "dB6hKssNsf8A",
        "outputId": "f974e46f-b97d-4b8e-8af4-b4859bcc644d"
      },
      "source": [
        "id2author_df"
      ],
      "execution_count": 260,
      "outputs": [
        {
          "output_type": "execute_result",
          "data": {
            "text/html": [
              "<div>\n",
              "<style scoped>\n",
              "    .dataframe tbody tr th:only-of-type {\n",
              "        vertical-align: middle;\n",
              "    }\n",
              "\n",
              "    .dataframe tbody tr th {\n",
              "        vertical-align: top;\n",
              "    }\n",
              "\n",
              "    .dataframe thead th {\n",
              "        text-align: right;\n",
              "    }\n",
              "</style>\n",
              "<table border=\"1\" class=\"dataframe\">\n",
              "  <thead>\n",
              "    <tr style=\"text-align: right;\">\n",
              "      <th></th>\n",
              "      <th>author</th>\n",
              "    </tr>\n",
              "    <tr>\n",
              "      <th>id</th>\n",
              "      <th></th>\n",
              "    </tr>\n",
              "  </thead>\n",
              "  <tbody>\n",
              "    <tr>\n",
              "      <th>0</th>\n",
              "      <td>Ulrich Theis</td>\n",
              "    </tr>\n",
              "    <tr>\n",
              "      <th>1</th>\n",
              "      <td>S. Stramaglia</td>\n",
              "    </tr>\n",
              "    <tr>\n",
              "      <th>2</th>\n",
              "      <td>E. T. Akhmedov</td>\n",
              "    </tr>\n",
              "    <tr>\n",
              "      <th>3</th>\n",
              "      <td>Nematollah Riazi</td>\n",
              "    </tr>\n",
              "    <tr>\n",
              "      <th>4</th>\n",
              "      <td>Yuri Malyuta</td>\n",
              "    </tr>\n",
              "    <tr>\n",
              "      <th>...</th>\n",
              "      <td>...</td>\n",
              "    </tr>\n",
              "    <tr>\n",
              "      <th>12920</th>\n",
              "      <td>Michael Goodband</td>\n",
              "    </tr>\n",
              "    <tr>\n",
              "      <th>12921</th>\n",
              "      <td>P. M. Saffin</td>\n",
              "    </tr>\n",
              "    <tr>\n",
              "      <th>12922</th>\n",
              "      <td>A. Tomasiello</td>\n",
              "    </tr>\n",
              "    <tr>\n",
              "      <th>12923</th>\n",
              "      <td>J. A. Teschner</td>\n",
              "    </tr>\n",
              "    <tr>\n",
              "      <th>12924</th>\n",
              "      <td>M. S. Ody</td>\n",
              "    </tr>\n",
              "  </tbody>\n",
              "</table>\n",
              "<p>12925 rows × 1 columns</p>\n",
              "</div>"
            ],
            "text/plain": [
              "                 author\n",
              "id                     \n",
              "0          Ulrich Theis\n",
              "1         S. Stramaglia\n",
              "2        E. T. Akhmedov\n",
              "3      Nematollah Riazi\n",
              "4          Yuri Malyuta\n",
              "...                 ...\n",
              "12920  Michael Goodband\n",
              "12921      P. M. Saffin\n",
              "12922     A. Tomasiello\n",
              "12923    J. A. Teschner\n",
              "12924         M. S. Ody\n",
              "\n",
              "[12925 rows x 1 columns]"
            ]
          },
          "metadata": {
            "tags": []
          },
          "execution_count": 260
        }
      ]
    },
    {
      "cell_type": "markdown",
      "metadata": {
        "id": "OeTvdV7swGLv"
      },
      "source": [
        "---"
      ]
    },
    {
      "cell_type": "code",
      "metadata": {
        "id": "NOnIhVxuwGjm"
      },
      "source": [
        "id2subjects_df = pd.DataFrame(data=id2subject.items(), columns=[\"id\", \"subject\"])\n",
        "id2subjects_df = id2subjects_df.set_index(\"id\")\n",
        "id2subjects_df.to_csv(\"id_2_subjects.csv\")"
      ],
      "execution_count": 261,
      "outputs": []
    },
    {
      "cell_type": "code",
      "metadata": {
        "id": "UEUsMCKKwRWq"
      },
      "source": [
        "id2subjects_df"
      ],
      "execution_count": null,
      "outputs": []
    }
  ]
}