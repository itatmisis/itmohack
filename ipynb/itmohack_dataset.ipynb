{
  "nbformat": 4,
  "nbformat_minor": 0,
  "metadata": {
    "kernelspec": {
      "display_name": "Python 3",
      "language": "python",
      "name": "python3"
    },
    "language_info": {
      "codemirror_mode": {
        "name": "ipython",
        "version": 3
      },
      "file_extension": ".py",
      "mimetype": "text/x-python",
      "name": "python",
      "nbconvert_exporter": "python",
      "pygments_lexer": "ipython3",
      "version": "3.8.3"
    },
    "colab": {
      "name": "itmohack_dataset.ipynb",
      "provenance": [],
      "collapsed_sections": [
        "pV37rx8Z3lQz",
        "ridETePk3owg",
        "pGwl01I2Ax_G",
        "Gl3p6AMNyD8o",
        "aCf4XfqNmwP2",
        "IWqkmyUomzvm",
        "e0cSsGwIVHr4",
        "3poOuPZkVNA_",
        "QAlmBAelVQ27",
        "FyjBL8iTWvI7",
        "I0TiJYEjdIJh"
      ],
      "toc_visible": true
    }
  },
  "cells": [
    {
      "cell_type": "markdown",
      "metadata": {
        "id": "pV37rx8Z3lQz"
      },
      "source": [
        "# Imports"
      ]
    },
    {
      "cell_type": "code",
      "metadata": {
        "id": "0CdRjxZhN_AI"
      },
      "source": [
        "import os, random, re\n",
        "from typing import Tuple, List, Dict, NewType\n",
        "\n",
        "import pandas as pd"
      ],
      "execution_count": 1,
      "outputs": []
    },
    {
      "cell_type": "markdown",
      "metadata": {
        "id": "ridETePk3owg"
      },
      "source": [
        "# File reading"
      ]
    },
    {
      "cell_type": "code",
      "metadata": {
        "id": "Q-32P_0S3rPx"
      },
      "source": [
        "# !unzip -q /content/meta.zip"
      ],
      "execution_count": 2,
      "outputs": []
    },
    {
      "cell_type": "code",
      "metadata": {
        "id": "Vwv1fVdh4dkB"
      },
      "source": [
        "META_ARTICLES_DIRECTORY_PATH = '/content/meta/articles/'"
      ],
      "execution_count": 3,
      "outputs": []
    },
    {
      "cell_type": "markdown",
      "metadata": {
        "id": "EA1V8faVAJUF"
      },
      "source": [
        "## Testing file reading"
      ]
    },
    {
      "cell_type": "code",
      "metadata": {
        "id": "zoKmJu63N_AK"
      },
      "source": [
        "from typing import Tuple\n",
        "import random\n",
        "import os\n",
        "def test_file_opening(chosen_file_to_open: str = None) -> bool:\n",
        "    if not chosen_file_to_open:\n",
        "        chosen_file_to_open = random.choice(os.listdir(META_ARTICLES_DIRECTORY_PATH))\n",
        "    chosen_file_to_open_path = os.path.join(META_ARTICLES_DIRECTORY_PATH, chosen_file_to_open)\n",
        "    chosen_file = open(chosen_file_to_open_path, \"r\")\n",
        "\n",
        "    try:\n",
        "        print(f\"Chosen file ({chosen_file_to_open}):\")\n",
        "        print(chosen_file.read(),end=\"\")\n",
        "        print(\"-\"*80)\n",
        "        print(\"Everything seems to work just fine!\")\n",
        "        return True\n",
        "    except Exception as e:\n",
        "        print(\"Something went wrong!\")\n",
        "        print(f\"Error: {e}\")\n",
        "        return False"
      ],
      "execution_count": 4,
      "outputs": []
    },
    {
      "cell_type": "code",
      "metadata": {
        "colab": {
          "base_uri": "https://localhost:8080/"
        },
        "id": "5V22SqH29240",
        "outputId": "53741fb8-45d0-435f-fba7-4504c1cb8ab3"
      },
      "source": [
        "# %%capture\n",
        "import random\n",
        "\n",
        "chosen_file_to_open = \"0001001.abs\"\n",
        "chosen_result = test_file_opening(chosen_file_to_open)\n",
        "print()\n",
        "\n",
        "random_file_to_open = random.choice(os.listdir(META_ARTICLES_DIRECTORY_PATH))\n",
        "random_result = test_file_opening()\n",
        "print()\n",
        "\n",
        "if chosen_result and random_result:\n",
        "    print(\"-\"*80)\n",
        "    print(f\"Both Chosen file and Random file opened just fine!\")\n",
        "else:\n",
        "    print(f\"Something went wrong with {'chosen file' if not chosen_result else ('random file' if not random_result else 'both chosen and random files')}!\")"
      ],
      "execution_count": 5,
      "outputs": [
        {
          "output_type": "stream",
          "text": [
            "Chosen file (0001001.abs):\n",
            "------------------------------------------------------------------------------\n",
            "\\\\\n",
            "Paper: hep-th/0001001\n",
            "From: Paul S. Aspinwall <psa@math.duke.edu>\n",
            "Date: Sat, 1 Jan 2000 00:02:31 GMT   (84kb)\n",
            "Date (revised v2): Mon, 17 Jan 2000 14:52:43 GMT   (85kb)\n",
            "\n",
            "Title: Compactification, Geometry and Duality: N=2\n",
            "Authors: Paul S. Aspinwall\n",
            "Comments: 82 pages, 8 figures, LaTeX2e, TASI99, refs added and some typos fixed\n",
            "Report-no: DUKE-CGTP-00-01\n",
            "\\\\\n",
            "  These are notes based on lectures given at TASI99. We review the geometry of\n",
            "the moduli space of N=2 theories in four dimensions from the point of view of\n",
            "superstring compactification. The cases of a type IIA or type IIB string\n",
            "compactified on a Calabi-Yau threefold and the heterotic string compactified on\n",
            "K3xT2 are each considered in detail. We pay specific attention to the\n",
            "differences between N=2 theories and N>2 theories. The moduli spaces of vector\n",
            "multiplets and the moduli spaces of hypermultiplets are reviewed. In the case\n",
            "of hypermultiplets this review is limited by the poor state of our current\n",
            "understanding. Some peculiarities such as ``mixed instantons'' and the\n",
            "non-existence of a universal hypermultiplet are discussed.\n",
            "\\\\\n",
            "--------------------------------------------------------------------------------\n",
            "Everything seems to work just fine!\n",
            "\n",
            "Chosen file (0303179.abs):\n",
            "------------------------------------------------------------------------------\n",
            "\\\\\n",
            "Paper: hep-th/0303179\n",
            "From: Vladimir Dobrev <ptvd@pt.tu-clausthal.de>\n",
            "Date: Thu, 20 Mar 2003 13:48:34 GMT   (27kb)\n",
            "\n",
            "Title: New Generalized Verma Modules and Multilinear Intertwining Differential\n",
            "  Operators\n",
            "Authors: V.K. Dobrev\n",
            "Comments: 30 pages, plain TEX with harvmac\n",
            "Subj-class: High Energy Physics - Theory; Quantum Algebra; Mathematical Physics\n",
            "Journal-ref: J.Geom.Phys. 25 (1998) 1-28\n",
            "\\\\\n",
            "  The present paper contains two interrelated developments. First, are proposed\n",
            "new generalized Verma modules. They are called k-Verma modules, k\\in N, and\n",
            "coincide with the usual Verma modules for k=1. As a vector space a k-Verma\n",
            "module is isomorphic to the symmetric tensor product of k copies of the\n",
            "universal enveloping algebra U(g^-), where g^- is the subalgebra of lowering\n",
            "generators in the standard triangular decomposition of a simple Lie algebra g =\n",
            "g^+ \\oplus h \\oplus g^- . The second development is the proposal of a procedure\n",
            "for the construction of multilinear intertwining differential operators for\n",
            "semisimple Lie groups G . This procedure uses k-Verma modules and coincides for\n",
            "k=1 with a procedure for the construction of linear intertwining differential\n",
            "operators. For all k central role is played by the singular vectors of the\n",
            "k-Verma modules. Explicit formulae for series of such singular vectors are\n",
            "given. Using these are given explicitly many new examples of multilinear\n",
            "intertwining differential operators. In particular, for G = SL(2,R) are given\n",
            "explicitly all bilinear intertwining differential operators. Using the latter,\n",
            "as an application are constructed (n/2)-differentials for all n\\in 2N, the\n",
            "ordinary Schwarzian being the case n=4. As another application, in a Note Added\n",
            "we propose a new hierarchy of nonlinear equations, the lowest member being the\n",
            "KdV equation.\n",
            "\\\\\n",
            "--------------------------------------------------------------------------------\n",
            "Everything seems to work just fine!\n",
            "\n",
            "--------------------------------------------------------------------------------\n",
            "Both Chosen file and Random file opened just fine!\n"
          ],
          "name": "stdout"
        }
      ]
    },
    {
      "cell_type": "markdown",
      "metadata": {
        "id": "DtoMRqi3AMJY"
      },
      "source": [
        "## Reading files and saving in the memory"
      ]
    },
    {
      "cell_type": "code",
      "metadata": {
        "id": "kEaUXmY9N_AL"
      },
      "source": [
        "# Reading files in the directory\n",
        "from typing import Tuple, List, Dict, NewType\n",
        "Filename = NewType(\"Filename\", str)\n",
        "FileContent = NewType(\"FileContent\", str)\n",
        "FileDict = Dict[Filename, FileContent]\n",
        "def read_files(directory: str) -> Tuple[int, FileDict]:\n",
        "    file_counter = 0\n",
        "    files = {}\n",
        "    for filename in os.listdir(META_ARTICLES_DIRECTORY_PATH):\n",
        "        file_counter += 1\n",
        "        try:\n",
        "            f = open(META_ARTICLES_DIRECTORY_PATH + filename , \"r\")\n",
        "            lines = f.read()\n",
        "            files[filename.replace(\".abs\", \"\")] = lines\n",
        "        except Exception as e:\n",
        "            continue\n",
        "    return file_counter, files"
      ],
      "execution_count": 6,
      "outputs": []
    },
    {
      "cell_type": "code",
      "metadata": {
        "id": "zXVMZXLB9DqM"
      },
      "source": [
        "%%capture\n",
        "file_counter, files = read_files(META_ARTICLES_DIRECTORY_PATH)"
      ],
      "execution_count": 7,
      "outputs": []
    },
    {
      "cell_type": "code",
      "metadata": {
        "colab": {
          "base_uri": "https://localhost:8080/"
        },
        "id": "SvfbASu2N_AN",
        "outputId": "bf4eadc7-313a-4795-f71a-8ed72383c4d4"
      },
      "source": [
        "print(f\"Amount of files read: {file_counter}\")\n",
        "print(f\"Amount of resulted files: {len(files)}\")\n",
        "print(\"Everything adds up!\") if file_counter == len(files) else print(f\"There seems to be {file_counter - len(files)} missing files!\")"
      ],
      "execution_count": 8,
      "outputs": [
        {
          "output_type": "stream",
          "text": [
            "Amount of files read: 29555\n",
            "Amount of resulted files: 29555\n",
            "Everything adds up!\n"
          ],
          "name": "stdout"
        }
      ]
    },
    {
      "cell_type": "markdown",
      "metadata": {
        "id": "Y8WyMzJT3TZv"
      },
      "source": [
        "---"
      ]
    },
    {
      "cell_type": "markdown",
      "metadata": {
        "id": "6UV1lQDX3Vn3"
      },
      "source": [
        "# Article Generation"
      ]
    },
    {
      "cell_type": "markdown",
      "metadata": {
        "id": "ulFTXqcSNQ8a"
      },
      "source": [
        "## Classes and Functions"
      ]
    },
    {
      "cell_type": "markdown",
      "metadata": {
        "id": "pGwl01I2Ax_G"
      },
      "source": [
        "### Article Class"
      ]
    },
    {
      "cell_type": "code",
      "metadata": {
        "id": "ULwa-WqvN_AO"
      },
      "source": [
        "categories = [\"Paper_ID\", \"Authors\", \"Title\", \"Abstract\", \"Subjects\", \"Comments\"]\n",
        "class Article:\n",
        "    def __init__(self):\n",
        "        self.paper_id = 0\n",
        "        self.authors = []\n",
        "        self.title = \"\"\n",
        "        self.abstract = \"\"\n",
        "        self.subjects = []\n",
        "        self.comments = 0\n",
        "    def __dict__(self):\n",
        "        return {\"paper_id\": self.paper_id, \"authors\": self.authors, \"title\": self.title, \"abstract\": self.abstract, \"subjects\": self.subjects, \"comments\": self.comments}"
      ],
      "execution_count": 9,
      "outputs": []
    },
    {
      "cell_type": "markdown",
      "metadata": {
        "id": "-7RbdZqr3cjS"
      },
      "source": [
        "### Preprocessing"
      ]
    },
    {
      "cell_type": "markdown",
      "metadata": {
        "id": "Gl3p6AMNyD8o"
      },
      "source": [
        "#### File's Meta Preprocessing"
      ]
    },
    {
      "cell_type": "code",
      "metadata": {
        "id": "X4DlcI4KYeTG"
      },
      "source": [
        "from typing import List\n",
        "def preprocess_file_meta(file_content: str) -> List[str]:\n",
        "    file_meta = []\n",
        "    continous_line = True\n",
        "    file_meta_lines = list(filter(lambda x: x, file_content.split(\"\\n\")))\n",
        "    file_meta.append(file_meta_lines[0])\n",
        "    for file_meta_line_index in range(1, len(file_meta_lines)):\n",
        "        meta_line = file_meta_lines[file_meta_line_index]\n",
        "        if (meta_line.startswith(\"Author\")\n",
        "            or meta_line.startswith(\"Title\")\n",
        "            or meta_line.startswith(\"Subj-class\")\n",
        "            or meta_line.startswith(\"Comments\")\n",
        "            ):\n",
        "            file_meta.append(meta_line)\n",
        "            continous_line = True\n",
        "        elif meta_line.startswith(r\"  \") and continous_line:\n",
        "            file_meta[-1] = file_meta[-1] + meta_line\n",
        "        else:\n",
        "            continous_line = False\n",
        "    return file_meta"
      ],
      "execution_count": 10,
      "outputs": []
    },
    {
      "cell_type": "markdown",
      "metadata": {
        "id": "aCf4XfqNmwP2"
      },
      "source": [
        "#### Author Name Preprocessing"
      ]
    },
    {
      "cell_type": "code",
      "metadata": {
        "id": "ocv28kmGDcgb"
      },
      "source": [
        "import re\n",
        "def preprocess_name_concatenations(name : str) -> str:\n",
        "    while True:\n",
        "        search = re.search(r'(?![A-Z])([a-z]|[A-Z]|\\.)[A-Z](?![A-Z])', name)\n",
        "        if search:\n",
        "            name = name[0:search.start()+1] + \" \" + name[search.end()-1:]\n",
        "        else:\n",
        "            break\n",
        "    return name"
      ],
      "execution_count": 11,
      "outputs": []
    },
    {
      "cell_type": "code",
      "metadata": {
        "id": "pd2iUAjWDelj"
      },
      "source": [
        "import re\n",
        "def preprocess_name_initials(name : str) -> str:\n",
        "    while True:\n",
        "        search = re.search(r'[A-Z]\\b(?!\\.)', name)\n",
        "        if search:\n",
        "            name = name[0:search.start()+1] + \".\" + name[search.end():]\n",
        "        else:\n",
        "            break\n",
        "    return name"
      ],
      "execution_count": 12,
      "outputs": []
    },
    {
      "cell_type": "code",
      "metadata": {
        "id": "OWTOqDTMDiJu"
      },
      "source": [
        "import re\n",
        "def preprocess_author_name_pipeline(author_name: str) -> str:\n",
        "    author_name = author_name.replace(\"\\n\", \" \")\n",
        "    \n",
        "    author_name = re.sub(r'\\(', ' ( ', author_name) \n",
        "    author_name = re.sub(r'\\)', ' ) ', author_name)  \n",
        "\n",
        "    while True:\n",
        "        if not re.search(r'\\((?!\\().*?\\)', author_name):\n",
        "            break\n",
        "        author_name = re.sub(r'\\((?!\\().*?\\)', ',', author_name)    \n",
        "    \n",
        "    author_name = re.sub(r'\\s{2,}', ' ', author_name)\n",
        "    author_name = re.sub(r'[^a-zA-Z., ]+', '', author_name)\n",
        "    \n",
        "    author_name = preprocess_name_concatenations(author_name)\n",
        "    author_name = preprocess_name_initials(author_name)\n",
        "\n",
        "    author_name = author_name.strip()\n",
        "\n",
        "    return author_name"
      ],
      "execution_count": 13,
      "outputs": []
    },
    {
      "cell_type": "markdown",
      "metadata": {
        "id": "IWqkmyUomzvm"
      },
      "source": [
        "#### Default Preprocessing\n",
        "Intended for `Title`, `Abstract` and `Subjects`"
      ]
    },
    {
      "cell_type": "code",
      "metadata": {
        "id": "z_XNkyfemqPr"
      },
      "source": [
        "import re\n",
        "def default_preprocess_pipeline(string: str) -> str:\n",
        "    string = string.replace(\"\\n\", \" \")\n",
        "    string = re.sub(r'\\s{2,}', ' ', string)\n",
        "    \n",
        "    string = string.strip()\n",
        "\n",
        "    return string"
      ],
      "execution_count": 14,
      "outputs": []
    },
    {
      "cell_type": "markdown",
      "metadata": {
        "id": "xf9UuryeDXAa"
      },
      "source": [
        "### Processing Files"
      ]
    },
    {
      "cell_type": "code",
      "metadata": {
        "id": "1NCZi97wN_AO"
      },
      "source": [
        "from typing import List\n",
        "def process_files(files: List[str]) -> List[Article]:\n",
        "    articles = []\n",
        "    for filename, file_content in files.items():\n",
        "\n",
        "        new_article = Article()\n",
        "        new_article.paper_id = filename\n",
        "        file_content = file_content.split(r\"\\\\\")\n",
        "        file_meta = file_content[1]\n",
        "        file_meta = preprocess_file_meta(file_meta)\n",
        "\n",
        "        for meta in file_meta:\n",
        "            if meta.startswith(\"Author\"):\n",
        "\n",
        "                postfix_string = None\n",
        "                if meta.startswith(\"Authors: \"):\n",
        "                    postfix_string = meta[len(\"Authors: \"):]\n",
        "                elif meta.startswith(\"Author: \"):\n",
        "                    postfix_string = meta[len(\"Author: \"):]\n",
        "\n",
        "                postfix_string = preprocess_author_name_pipeline(postfix_string)\n",
        "                new_authors = re.split(r\",| and \", postfix_string)\n",
        "                new_authors = list(map(preprocess_author_name_pipeline, new_authors))\n",
        "                new_authors = list(filter(lambda x: len(x)>3, new_authors))\n",
        "                new_article.authors = new_authors\n",
        "\n",
        "            elif meta.startswith(\"Title:\"):\n",
        "                postfix_string = meta[len(\"Title: \"):]\n",
        "                title = default_preprocess_pipeline(postfix_string)\n",
        "                new_article.title = title\n",
        "\n",
        "            elif meta.startswith(\"Subj-class:\"):\n",
        "                postfix_string = meta[len(\"Subj-class: \"):]\n",
        "                subjects = default_preprocess_pipeline(postfix_string)\n",
        "                subjects = re.split(r',|;', subjects)\n",
        "                subjects = list(map(default_preprocess_pipeline, subjects))\n",
        "                subjects = list(filter(lambda x: len(x)>3, subjects))\n",
        "                new_article.subjects = subjects\n",
        "\n",
        "            elif meta.startswith(\"Comments:\"):\n",
        "                postfix_string = meta[len(\"Comments: \"):]\n",
        "                search = re.search(r\"(\\d+)(?=.*p)\", postfix_string)\n",
        "                if search:\n",
        "                    new_article.comments = int(search.group(0))\n",
        "\n",
        "        file_abstract = file_content[2]\n",
        "        file_abstract = default_preprocess_pipeline(file_abstract)\n",
        "        new_article.abstract = file_abstract\n",
        "\n",
        "        articles.append(new_article)\n",
        "        \n",
        "    return articles"
      ],
      "execution_count": 15,
      "outputs": []
    },
    {
      "cell_type": "markdown",
      "metadata": {
        "id": "ZaVlMX0tNare"
      },
      "source": [
        "## Article Generation from files"
      ]
    },
    {
      "cell_type": "code",
      "metadata": {
        "id": "DmBJAuLaN_AP"
      },
      "source": [
        "# Process articles\n",
        "articles = process_files(files)\n",
        "# Make dictionaries out of class\n",
        "articles = [article.__dict__() for article in articles]"
      ],
      "execution_count": 16,
      "outputs": []
    },
    {
      "cell_type": "markdown",
      "metadata": {
        "id": "99nP42HbT_OP"
      },
      "source": [
        "## Testing Article Generation"
      ]
    },
    {
      "cell_type": "code",
      "metadata": {
        "colab": {
          "base_uri": "https://localhost:8080/"
        },
        "id": "eOzlmP_esQVT",
        "outputId": "618a513b-9829-42cc-8ed5-28acaa124718"
      },
      "source": [
        "# Checking, if all files were converted\n",
        "print(f\"Files in dataset: {len(files)}\")\n",
        "print(f\"Converted articles: {len(articles)}\")\n",
        "print(f\"Everything converted just fine!\") if len(files) == len(articles) \\\n",
        "else print(f\"{len(files) - len(articles)} (around {(100 - (len(articles)/len(files))*100):.3f}%) were lost during conversion!\")"
      ],
      "execution_count": 17,
      "outputs": [
        {
          "output_type": "stream",
          "text": [
            "Files in dataset: 29555\n",
            "Converted articles: 29555\n",
            "Everything converted just fine!\n"
          ],
          "name": "stdout"
        }
      ]
    },
    {
      "cell_type": "code",
      "metadata": {
        "colab": {
          "base_uri": "https://localhost:8080/"
        },
        "id": "eIcInE9uOGGe",
        "outputId": "8663de06-5a21-4978-8361-13ee06ec4daa"
      },
      "source": [
        "# Getting random article to check\n",
        "import random\n",
        "paper_id = \"9907150\"\n",
        "chosen_article = next(filter(lambda a: a['paper_id'] == paper_id, articles))\n",
        "random_article = random.choice(articles)\n",
        "print(\"Chosen article:\", chosen_article)\n",
        "print()\n",
        "print(\"Random article:\", random_article)"
      ],
      "execution_count": 18,
      "outputs": [
        {
          "output_type": "stream",
          "text": [
            "Chosen article: {'paper_id': '9907150', 'authors': ['Fabio Scardigli'], 'title': 'Gravity coupling from micro-black holes', 'abstract': 'Recently much work has been done in lowering the Planck threshold of quantum gravitational effects (sub-millimeter dimension(s), Horava-Witten fifth dimension, strings or branes low energy effects, etc.). Working in the framework of 4-dim gravity, with semi-classical considerations based on Hawking evaporation of planckian micro-black holes, I shall show here as quantum gravity effects could occur also near GUT energies.', 'subjects': [], 'comments': 5}\n",
            "\n",
            "Random article: {'paper_id': '9401071', 'authors': ['Mikhail S. Volkov'], 'title': 'Fermion number non-conservation and gravity', 'abstract': 'It is shown that in the Einstein-Yang-Mills (EYM) theory, as well as in the pure flat space Yang-Mills (YM) theory, there always exists an opportunity to pass over the potential barrier separating homotopically distinct vacuum sectors, because the barrier height may be arbitrarily small. However, at low energies all the overbarrier histories are suppressed by the destructive interference. In the pure YM theory the situation remains the same for any energies. In the EYM theory on the other hand, when the energy is large and exceeds the ground state EYM sphaleron mass, the constructive interference occurs instead. This means that in the extreme high energy limit the exponential suppression of the fermion number violation in pure YM theory is removed due to gravitational effects.', 'subjects': [], 'comments': 31}\n"
          ],
          "name": "stdout"
        }
      ]
    },
    {
      "cell_type": "markdown",
      "metadata": {
        "id": "GZTL2WMmObAf"
      },
      "source": [
        "# Articles further preprocessing (TBD)\n"
      ]
    },
    {
      "cell_type": "markdown",
      "metadata": {
        "id": "ie4kjX-_Nelr"
      },
      "source": [
        "# pandas DataFrame Pipeline"
      ]
    },
    {
      "cell_type": "code",
      "metadata": {
        "id": "iLIme8lyN_AQ"
      },
      "source": [
        "# Create dataframe from articles list\n",
        "df = pd.DataFrame(data=articles)"
      ],
      "execution_count": 19,
      "outputs": []
    },
    {
      "cell_type": "code",
      "metadata": {
        "colab": {
          "base_uri": "https://localhost:8080/",
          "height": 1000
        },
        "id": "pO4Cof6X4uBd",
        "outputId": "7daaf152-e161-4cda-ac1a-d662f31952fa"
      },
      "source": [
        "df"
      ],
      "execution_count": 20,
      "outputs": [
        {
          "output_type": "execute_result",
          "data": {
            "text/html": [
              "<div>\n",
              "<style scoped>\n",
              "    .dataframe tbody tr th:only-of-type {\n",
              "        vertical-align: middle;\n",
              "    }\n",
              "\n",
              "    .dataframe tbody tr th {\n",
              "        vertical-align: top;\n",
              "    }\n",
              "\n",
              "    .dataframe thead th {\n",
              "        text-align: right;\n",
              "    }\n",
              "</style>\n",
              "<table border=\"1\" class=\"dataframe\">\n",
              "  <thead>\n",
              "    <tr style=\"text-align: right;\">\n",
              "      <th></th>\n",
              "      <th>paper_id</th>\n",
              "      <th>authors</th>\n",
              "      <th>title</th>\n",
              "      <th>abstract</th>\n",
              "      <th>subjects</th>\n",
              "      <th>comments</th>\n",
              "    </tr>\n",
              "  </thead>\n",
              "  <tbody>\n",
              "    <tr>\n",
              "      <th>0</th>\n",
              "      <td>9810034</td>\n",
              "      <td>[Anastasia Doikou, Rafael I. Nepomechie]</td>\n",
              "      <td>Parity and Charge Conjugation Symmetries and S...</td>\n",
              "      <td>We formulate the notion of parity for the peri...</td>\n",
              "      <td>[High Energy Physics - Theory, Exactly Solvabl...</td>\n",
              "      <td>20</td>\n",
              "    </tr>\n",
              "    <tr>\n",
              "      <th>1</th>\n",
              "      <td>0201111</td>\n",
              "      <td>[G. Papadopoulos]</td>\n",
              "      <td>KT and HKT Geometries in Strings and in Black ...</td>\n",
              "      <td>Some selected applications of KT and HKT geome...</td>\n",
              "      <td>[High Energy Physics - Theory, Differential Ge...</td>\n",
              "      <td>26</td>\n",
              "    </tr>\n",
              "    <tr>\n",
              "      <th>2</th>\n",
              "      <td>9210111</td>\n",
              "      <td>[A. P. Balachandran]</td>\n",
              "      <td>Gauge Symmetries,Topology and Quantisation</td>\n",
              "      <td>The following two loosely connected sets of to...</td>\n",
              "      <td>[]</td>\n",
              "      <td>74</td>\n",
              "    </tr>\n",
              "    <tr>\n",
              "      <th>3</th>\n",
              "      <td>9303104</td>\n",
              "      <td>[P. Berglund]</td>\n",
              "      <td>Dimensionally Reduced Landau-Ginzburg Orbifold...</td>\n",
              "      <td>It is observed that a large class of $(2,2)$ s...</td>\n",
              "      <td>[]</td>\n",
              "      <td>10</td>\n",
              "    </tr>\n",
              "    <tr>\n",
              "      <th>4</th>\n",
              "      <td>9509068</td>\n",
              "      <td>[Tae Seong Kim, Won Ho Kye, Jae Kwan Kim]</td>\n",
              "      <td>The Dynamical Behaviors in (2+1)-Dimensional G...</td>\n",
              "      <td>We analyze (2+1)-dimensional Gross-Neveu model...</td>\n",
              "      <td>[]</td>\n",
              "      <td>19</td>\n",
              "    </tr>\n",
              "    <tr>\n",
              "      <th>...</th>\n",
              "      <td>...</td>\n",
              "      <td>...</td>\n",
              "      <td>...</td>\n",
              "      <td>...</td>\n",
              "      <td>...</td>\n",
              "      <td>...</td>\n",
              "    </tr>\n",
              "    <tr>\n",
              "      <th>29550</th>\n",
              "      <td>0210293</td>\n",
              "      <td>[Dmitri Antonov]</td>\n",
              "      <td>Finite-temperature properties of the supersymm...</td>\n",
              "      <td>The finite-temperature properties of supersymm...</td>\n",
              "      <td>[]</td>\n",
              "      <td>8</td>\n",
              "    </tr>\n",
              "    <tr>\n",
              "      <th>29551</th>\n",
              "      <td>9310065</td>\n",
              "      <td>[Aurelian Isar]</td>\n",
              "      <td>Wigner distribution function for the harmonic ...</td>\n",
              "      <td>Time evolution of the expectation values of va...</td>\n",
              "      <td>[]</td>\n",
              "      <td>17</td>\n",
              "    </tr>\n",
              "    <tr>\n",
              "      <th>29552</th>\n",
              "      <td>0103002</td>\n",
              "      <td>[Kazuto Oshima]</td>\n",
              "      <td>Critical Coupling in (1+1)-Dimensional Light-F...</td>\n",
              "      <td>Spontaneous symmetry breaking in (1+1)-dimensi...</td>\n",
              "      <td>[]</td>\n",
              "      <td>21</td>\n",
              "    </tr>\n",
              "    <tr>\n",
              "      <th>29553</th>\n",
              "      <td>9406137</td>\n",
              "      <td>[Cesar Gomez, Henri Ruegg, Philippe Zaugg]</td>\n",
              "      <td>Lattice Poincare as a quantum deformed algebra</td>\n",
              "      <td>We propose a definition of a Poincar\\'e algebr...</td>\n",
              "      <td>[]</td>\n",
              "      <td>10</td>\n",
              "    </tr>\n",
              "    <tr>\n",
              "      <th>29554</th>\n",
              "      <td>9507054</td>\n",
              "      <td>[Sudhakar Panda, Shibaji Roy]</td>\n",
              "      <td>BRST Cohomology Ring in ${\\hat c_M}&lt;1$ NSR Str...</td>\n",
              "      <td>The full cohomology ring of the Lian-Zuckerman...</td>\n",
              "      <td>[]</td>\n",
              "      <td>16</td>\n",
              "    </tr>\n",
              "  </tbody>\n",
              "</table>\n",
              "<p>29555 rows × 6 columns</p>\n",
              "</div>"
            ],
            "text/plain": [
              "      paper_id  ... comments\n",
              "0      9810034  ...       20\n",
              "1      0201111  ...       26\n",
              "2      9210111  ...       74\n",
              "3      9303104  ...       10\n",
              "4      9509068  ...       19\n",
              "...        ...  ...      ...\n",
              "29550  0210293  ...        8\n",
              "29551  9310065  ...       17\n",
              "29552  0103002  ...       21\n",
              "29553  9406137  ...       10\n",
              "29554  9507054  ...       16\n",
              "\n",
              "[29555 rows x 6 columns]"
            ]
          },
          "metadata": {
            "tags": []
          },
          "execution_count": 20
        }
      ]
    },
    {
      "cell_type": "markdown",
      "metadata": {
        "id": "7JHuEGFn9YtY"
      },
      "source": [
        "## DataFrame quick analyse"
      ]
    },
    {
      "cell_type": "code",
      "metadata": {
        "id": "MabN_e8b9bdB"
      },
      "source": [
        "def flat_list(data):\n",
        "    return [item for sublist in data for item in sublist]"
      ],
      "execution_count": 21,
      "outputs": []
    },
    {
      "cell_type": "code",
      "metadata": {
        "colab": {
          "base_uri": "https://localhost:8080/"
        },
        "id": "D3EMdQDg9c32",
        "outputId": "8bd46ae4-77dc-4b6d-b1fa-2dc5efd0e32c"
      },
      "source": [
        "# Amount of unique authors\n",
        "len(set(flat_list(df[\"authors\"])))"
      ],
      "execution_count": 22,
      "outputs": [
        {
          "output_type": "execute_result",
          "data": {
            "text/plain": [
              "13191"
            ]
          },
          "metadata": {
            "tags": []
          },
          "execution_count": 22
        }
      ]
    },
    {
      "cell_type": "code",
      "metadata": {
        "colab": {
          "base_uri": "https://localhost:8080/"
        },
        "id": "JPoLpkQ59h4Q",
        "outputId": "f26ffc6b-de34-4da7-8dbc-fb9950e815f7"
      },
      "source": [
        "#Unique authors\n",
        "set(flat_list(df[\"authors\"]))"
      ],
      "execution_count": 23,
      "outputs": [
        {
          "output_type": "execute_result",
          "data": {
            "text/plain": [
              "{'Domenec Espriu',\n",
              " 'M. Maruyama',\n",
              " 'V. V. Kuratov',\n",
              " 'R. Rajaraman',\n",
              " 'John Uglum',\n",
              " 'B. Wehefritz Kaufmann',\n",
              " 'B. Schroer',\n",
              " 'Alexander G. Abanov',\n",
              " 'V. S. Alves',\n",
              " 'Chong Oh Lee',\n",
              " 'G. T. Ter Kazarian',\n",
              " 'Jeroen Wijnhout',\n",
              " 'N. Sanchez',\n",
              " 'Floriana Gargiulo',\n",
              " 'Antonio J. Segui Santonja',\n",
              " 'Richard Shurtleff',\n",
              " 'Takahiro Tanaka',\n",
              " 'Piotr Kosinski',\n",
              " 'Anirvan M. Sengupta',\n",
              " 'C. Itoi',\n",
              " 'G. L. Huang',\n",
              " 'A. Giaquinto',\n",
              " 'M. Sato',\n",
              " 'A. Mondragon',\n",
              " 'Michel Rausch de Traubenberg',\n",
              " 'W. S. l Yi',\n",
              " 'Graziano Vernizzi',\n",
              " 'Luigi Tedesco',\n",
              " 'Robin Horan',\n",
              " 'Alejandro Rivero',\n",
              " 'A. P. Flitney',\n",
              " 'V. E. Markushin',\n",
              " 'Benjamin Grinstein',\n",
              " 'Matthew Lippert',\n",
              " 'P. Hajicek',\n",
              " 'Karim A. Malik',\n",
              " 'P. Sundell',\n",
              " 'Igor N. Nikitin',\n",
              " 'Harunobu Kubo',\n",
              " 'Brent Nelson',\n",
              " 'Andrei Micu',\n",
              " 'G. K. Savvidy',\n",
              " 'R. A. Leo',\n",
              " 'Takesi Suzuki',\n",
              " 'W. Bietenholz',\n",
              " 'J. Santiago',\n",
              " 'Antero Hietamaki',\n",
              " 'M. Oleszczuk',\n",
              " 'Ingo Runkel',\n",
              " 'T. Haugset',\n",
              " 'F. Aigner',\n",
              " 'G. H. Lee',\n",
              " 'Barry Mc Coy',\n",
              " 'J. Saavedra',\n",
              " 'Konstantinos Kyritsis',\n",
              " 'F. D. T. Smith',\n",
              " 'Stany Schrans',\n",
              " 'Barbashov B. M.',\n",
              " 'Jurgen Schulze',\n",
              " 'C. Barbachoux',\n",
              " 'Zhanying Yang',\n",
              " 'Volodimir Lyubashenko',\n",
              " 'Sourav Sarkar',\n",
              " 'J. P. Kownacki',\n",
              " 'D. Prange',\n",
              " 'A. Belhaj',\n",
              " 'Jeffrey A. Harvey',\n",
              " 'Oktay Cebecioglu',\n",
              " 'Adrian Muller',\n",
              " 'Aleksandar Belic',\n",
              " 'Tatsu Takeuchi',\n",
              " 'Ulf H. Danielsson',\n",
              " 'G. M. Cicuta',\n",
              " 'Yoshiki Hiraoka',\n",
              " 'Eun Joo Ahn',\n",
              " 'N. D. Tracas',\n",
              " 'S. Ichinose',\n",
              " 'Andrei Galiautdinov',\n",
              " 'Behzad Bina',\n",
              " 'Toshihiro Sasada',\n",
              " 'A. B. Waites',\n",
              " 'L. Bruecher',\n",
              " 'Anthony W. Thomas',\n",
              " 'Andrei Bytsenko',\n",
              " 'S. Odintsov',\n",
              " 'Taichi Itoh',\n",
              " 'Karim Ait Moussa',\n",
              " 'Greg Trayling',\n",
              " 'Daniela Bigatti',\n",
              " 'S. Oda',\n",
              " 'K. Takasaki',\n",
              " 'J. T. Yee',\n",
              " 'Michele Morara',\n",
              " 'Marija Dimitrijevic',\n",
              " 'Romuald A. Janik',\n",
              " 'S. Miyagi',\n",
              " 'S. A. Hartnoll',\n",
              " 'Ramon F. Alvarez Estrada',\n",
              " 'Thomas Dent',\n",
              " 'Hiroyuki Hata',\n",
              " 'V. K. Kharchenko',\n",
              " 'B. Y. Hou',\n",
              " 'Instituto de Fisica',\n",
              " 'S. Horata',\n",
              " 'A. G. Pronko',\n",
              " 'Costin Popescu',\n",
              " 'M. H. Dehghani',\n",
              " 'Attilio Cucchieri',\n",
              " 'H. Epstein',\n",
              " 'Dmitri M. Gitman',\n",
              " 'L. D. Paniak',\n",
              " 'Hisao Suzuki',\n",
              " 'Dileep P. Jatkar',\n",
              " 'Wenge Wang',\n",
              " 'Steve Pinsky',\n",
              " 'H. Awata',\n",
              " 'Tomasz R. Taylor',\n",
              " 'Masanobu Yahiro',\n",
              " 'C. Pena',\n",
              " 'R. S. Thorne',\n",
              " 'Nuno Reis',\n",
              " 'Werner Ruhl',\n",
              " 'A. Pasquinucci',\n",
              " 'Michael Martin Nieto',\n",
              " 'Li Xianhui',\n",
              " 'Andrey Yu. Dubin',\n",
              " 'David Mc Mullan',\n",
              " 'E. Werner',\n",
              " 'P. A. Horvathy',\n",
              " 'Michael Lassig',\n",
              " 'Kristin Forger',\n",
              " 'V. A. Kazakov',\n",
              " 'Costas Efthimiou',\n",
              " 'J. Mc Carthy',\n",
              " 'S. L. Parameswaran',\n",
              " 'D. Senechal',\n",
              " 'S. Andrea',\n",
              " 'I. A. Naumov',\n",
              " 'V. A. Nechitailo',\n",
              " 'Hugo Reinhardt',\n",
              " 'Eric Nicholson',\n",
              " 'G. A. Vilkovisky',\n",
              " 'S. Stieberger',\n",
              " 'I. G. Koh',\n",
              " 'G. Galloway',\n",
              " 'Diego D. Dalvit',\n",
              " 'A. N. Theron',\n",
              " 'Rashmi Rekha Nayak',\n",
              " 'Zheng Yin',\n",
              " 'C. Chryssomalakos',\n",
              " 'N. B. Narozhny',\n",
              " 'H. Zerrouki.',\n",
              " '. Some references added. No change of conclusions.',\n",
              " 'Fabio Finelli',\n",
              " 'J. F. Carinena',\n",
              " 'Shinsuke M. Nishigaki',\n",
              " 'D. V. Gluschenkov',\n",
              " 'Stewart V. Wright',\n",
              " 'Sandip K. Chakrabarti',\n",
              " 'So Matsuura',\n",
              " 'Allen C. Hirshfeld',\n",
              " 'Germar Schroeder',\n",
              " 'Niklas Beisert',\n",
              " 'Victor Dannon',\n",
              " 'Karsten Bormann',\n",
              " 'A. Sagnotti',\n",
              " 'Yuki Yamamoto',\n",
              " 'Michihiro Naka',\n",
              " 'Stefan Waldmann',\n",
              " 'E. A. Silva',\n",
              " 'Galen Sotkov',\n",
              " 'Kimio Ueno',\n",
              " 'Osvaldo Chandia',\n",
              " 'Robert Myers',\n",
              " 'A. Kehagias',\n",
              " 'Israel Gelfand',\n",
              " 'P. Kaste',\n",
              " 'R. Das',\n",
              " 'C. Cartier',\n",
              " 'V. Rychkov',\n",
              " 'S. Paban',\n",
              " 'Arlen Anderson',\n",
              " 'K. C. Hannabuss',\n",
              " 'M. Burkardt',\n",
              " 'Ph. Boucaud',\n",
              " 'R. Guven',\n",
              " 'J. Ovalle',\n",
              " 'Andrea Zirotti',\n",
              " 'T. Quella',\n",
              " 'D. Jancic',\n",
              " 'D. B. Papadopoulos',\n",
              " 'T. Paul',\n",
              " 'Maciej Kuna',\n",
              " 'G. Longhi',\n",
              " 'Hadi Salehi',\n",
              " 'Nakwoo Kim',\n",
              " 'Adriano S. Pedra',\n",
              " 'P. F. Kelly',\n",
              " 'Gavin Duffy',\n",
              " 'Ulf Gran',\n",
              " 'F. Zamora',\n",
              " 'D. M. Gitman',\n",
              " 'S. Sinha',\n",
              " 'A. Catal Ozer',\n",
              " 'H. Minowa',\n",
              " 'Matthias Blau',\n",
              " 'P. Moshin',\n",
              " 'Andrei Cheshel',\n",
              " 'Marcelo Carvalho',\n",
              " 'Conor J. Houghton',\n",
              " 'V. Azcoiti',\n",
              " 'J. Yamashita',\n",
              " 'C. Helfgott',\n",
              " 'Gary W. Gibbons',\n",
              " 'Changhui Li',\n",
              " 'Radu Tatar',\n",
              " 'Niels Emil Jannik Bjerrum Bohr',\n",
              " 'H. Cateau K. Sumiyoshi',\n",
              " 'V. M. Simulik',\n",
              " 'Toshinao Akuzawa',\n",
              " 'P. S. Howe',\n",
              " 'Alexei Kitaev',\n",
              " 'Bogoliubov Laboratory of Theoretical Physics',\n",
              " 'S. Tamaryan',\n",
              " 'D. Louis Martinez',\n",
              " 'Hyun Min Lee',\n",
              " 'L. Martina',\n",
              " 'Oleksandr Pavlyk',\n",
              " 'Rio de Janeiro',\n",
              " 'Mofazzal Azam',\n",
              " 'Marc Grisaru',\n",
              " 'Naples',\n",
              " 'Mark D. Gould',\n",
              " 'Salvatore Mignemi',\n",
              " 'Ron Y. Donagi',\n",
              " 'Sergei Gukov',\n",
              " 'Marek Karliner',\n",
              " 'E. V. Prokhvatilov',\n",
              " 'K. Hosomichi',\n",
              " 'F. Larsen',\n",
              " 'Andrei Marshakov',\n",
              " 'A. Arhrib',\n",
              " 'Chad Middleton',\n",
              " 'J. Hietarinta',\n",
              " 'Takeshi Sato',\n",
              " 'Gabriel German',\n",
              " 'Alex Kehagias',\n",
              " 'Andrew K. Waldron',\n",
              " 'Andrei Yu. Mikhailov',\n",
              " 'Namil Park',\n",
              " 'Kazuhiro Hikami',\n",
              " 'Francois Gieres',\n",
              " 'Ludde Edgren',\n",
              " 'Lars Andersson',\n",
              " 'Tomoyasu Ichihara',\n",
              " 'Ulf S. Nilsson',\n",
              " 'Alexander Antonov',\n",
              " 'E. Meinrenken',\n",
              " 'A. H. Rezaeian',\n",
              " 'G. E. Volovik',\n",
              " 'D. Z. Freedman',\n",
              " 'S. Kuperstein',\n",
              " 'Dmitrij V. Volkov',\n",
              " 'Ben Geller',\n",
              " 'Hans A. Kastrup',\n",
              " 'Juan Mateu',\n",
              " 'Zoltan Kadar',\n",
              " 'Vladimir Pershin',\n",
              " 'Martin Bordemann',\n",
              " 'J. Alexandre',\n",
              " 'M. Bando',\n",
              " 'B. J. Schroers',\n",
              " 'J. M. Maillard',\n",
              " 'Daniel Brace',\n",
              " 'David Nolland',\n",
              " 'Hisashi Kikuchi',\n",
              " 'Hugo Garcia Compean',\n",
              " 'K. E. Evdokimov',\n",
              " 'A. Kalloniatis',\n",
              " 'M. de Innocentis',\n",
              " 'Yu. F. Smirnov',\n",
              " 'D. M. Belov',\n",
              " 'J. Boguszynski',\n",
              " 'R. Behrend',\n",
              " 'M. Vargas',\n",
              " 'K. A. Saraikin',\n",
              " 'Kohzo Nishida',\n",
              " 'J. Mourad',\n",
              " 'C. J. Hunter',\n",
              " 'T. Muramatsu',\n",
              " 'Andrew Ferstl',\n",
              " 'J. S. Shim',\n",
              " 'Alexander V. Turbiner',\n",
              " 'Anton A. Gerasimov',\n",
              " 'Emmanuel T. Rodulfo',\n",
              " 'A. Nakamichi',\n",
              " 'Mohammad Nouri Zonoz',\n",
              " 'J. J. van der Bij',\n",
              " 'E. Kiritsis',\n",
              " 'S. A. Hotes',\n",
              " 'Tsuyoshi Sakata',\n",
              " 'Guillermo R. Zemba',\n",
              " 'Walter F. Wreszinski',\n",
              " 'Dmitry Melnikov',\n",
              " 'Alexander Ushveridze',\n",
              " 'B. K. Patra',\n",
              " 'Michael E. Peskin',\n",
              " 'Sebastian Uhlmann',\n",
              " 'M. Abou Zeid',\n",
              " 'Shinji HAMAMOTO.',\n",
              " 'Caroline Santos',\n",
              " 'Misao Sasaki',\n",
              " 'Arne Schirrmacher',\n",
              " 'Matteo Bertolini',\n",
              " 'S. Sakoda',\n",
              " 'James Baugh',\n",
              " 'J. Rasmussen',\n",
              " 'Patrick Roberts',\n",
              " 'Yong Seon Song',\n",
              " 'Y. Yasui',\n",
              " 'D. R. Grigore',\n",
              " 'J. Kumar',\n",
              " 'D. Arnaudon',\n",
              " 'V. V. Dyadichev',\n",
              " 'Faheem Hussain',\n",
              " 'Tomasz Romanczukiewicz',\n",
              " 'L. O. Chekhov',\n",
              " 'D. R. Bes',\n",
              " 'IAP.',\n",
              " 'M. C. B. Abdalla',\n",
              " 'Chul H. Lee',\n",
              " 'Vilson T. Zanchin',\n",
              " 'A. L. Shelepin',\n",
              " 'E. Tricarico',\n",
              " 'U. of Washington',\n",
              " 'E. Guitter',\n",
              " 'Sang Ok Hahn',\n",
              " 'Ryszard Raczka',\n",
              " 'Boris Zupnik',\n",
              " 'C. Ordonez y J. M. Pons',\n",
              " 'L. Turban',\n",
              " 'S. W. Kimm',\n",
              " 'Tokyo Institute of Technology',\n",
              " 'Ali Chamseddine',\n",
              " 'J. Bischoff',\n",
              " 'R. Sturani',\n",
              " 'Julius Wess',\n",
              " 'Ennio Gozzi',\n",
              " 'Orissa',\n",
              " 'Stephen C. Davis',\n",
              " 'Fernando Quevedo',\n",
              " 'Mohammad R. Garousi',\n",
              " 'P. Martinetti',\n",
              " 'Bernhard Meister',\n",
              " 'A. Borzi',\n",
              " 'Eugenios Angelopoulos',\n",
              " 'S. Ferrara amd M. A. Lledo',\n",
              " 'Stefan Berceanu',\n",
              " 'D. I. Meiron',\n",
              " 'Warren Siegel',\n",
              " 'Korkut Bardakci',\n",
              " 'A. V. Odesskii',\n",
              " 'Kirill Ilinski',\n",
              " 'Miyuki Nishikawa',\n",
              " 'Jean Rene Cudell',\n",
              " 'Aaron K. Grant',\n",
              " 'V. Schulte Frohlinde',\n",
              " 'A. Martin',\n",
              " 'Ingeborg Entrop',\n",
              " 'C. Emmrich',\n",
              " 'Eugene Perevalov',\n",
              " 'Robertus Potting',\n",
              " 'A. Mueller',\n",
              " 'Anisur Rahaman',\n",
              " 'A. Kempf',\n",
              " 'Ralph Lano',\n",
              " 'L. Cappiello',\n",
              " 'V. B. Tlyachev',\n",
              " 'A. Jevicki',\n",
              " 'Thomas Reisz',\n",
              " 'Jennie Traschen',\n",
              " 'Carla Biggio',\n",
              " 'K. C. Wali',\n",
              " 'A. Barducci',\n",
              " 'D. V. Nanopoulos',\n",
              " 'Paul Langacker',\n",
              " 'Frank Steiner',\n",
              " 'Sergey A. Cherkis',\n",
              " 'S. Garcia',\n",
              " 'M. Picariello',\n",
              " 'Martin Olsson',\n",
              " 'Thomas M. Fiola',\n",
              " 'I. H. Duru',\n",
              " 'Christian Surlykke',\n",
              " 'F. Ruiz Ruiz',\n",
              " 'M. Sarbishaei',\n",
              " 'Tzuu Kang Chyi',\n",
              " 'Horace Crater',\n",
              " 'Gouranga. C. Nayak',\n",
              " 'CBPFBrazil',\n",
              " 'Austin Pickering',\n",
              " 'A. Yelnikov',\n",
              " 'R. Apreda',\n",
              " 'Viktor Abramov',\n",
              " 'University of Florida at Gainesville',\n",
              " 'H. Arodz',\n",
              " 'Chopin Soo',\n",
              " 'SPbSU.',\n",
              " 'Jon Magne Leinaas',\n",
              " 'Gabor Papp',\n",
              " 'Hou Defu',\n",
              " 'P. E. Gibbs',\n",
              " 'P. Zenczykowski',\n",
              " 'B. Tekin',\n",
              " 'D. Nanopoulos',\n",
              " 'Mokhtar Hassaine',\n",
              " 'Y. Matsuo',\n",
              " 'T. Eguchi',\n",
              " 'Asim Gangopadhyaya',\n",
              " 'John C. Baez',\n",
              " 'C. Acerbi',\n",
              " 'F. Jegerlehner',\n",
              " 'Peter Vecsernyes',\n",
              " 'J. R. Shepard',\n",
              " 'G. Koutsoumbas',\n",
              " 'Nuria Rius',\n",
              " 'A. Giveon',\n",
              " 'Jose David Vergara',\n",
              " 'E. W. Mielke',\n",
              " 'Joe Polchinski',\n",
              " 'C. Castro',\n",
              " 'M. M. Smirnov',\n",
              " 'Lin He',\n",
              " 'Simon Hands',\n",
              " 'Alexander Rutenburg',\n",
              " 'Juerg Froehlich',\n",
              " 'Eugene Ferapontov',\n",
              " 'Nathan Poliatzky',\n",
              " 'Xi Yin',\n",
              " 'David L. OBrien',\n",
              " 'A. Barvinsky',\n",
              " 'L. F. Cugliandolo',\n",
              " 'Armen G. Sergeev',\n",
              " 'V. E. Rochev',\n",
              " 'Roy Maartens',\n",
              " 'R. Lopez Pena',\n",
              " 'S. Lazzarini',\n",
              " 'Jian Zu Zhang',\n",
              " 'Rashmi Ray',\n",
              " 'Hou Boyu',\n",
              " 'Antonio Riotto',\n",
              " 'Claus Nowak',\n",
              " 'N. Ohta',\n",
              " 'A. Nicolaidis',\n",
              " 'Abha Sood',\n",
              " 'P. Fosalba Vela',\n",
              " 'Leonidas Sandoval Jr',\n",
              " 'A. Molev',\n",
              " 'Ivan Kostov',\n",
              " 'S. J. Summers',\n",
              " 'Luiz C. Q. Vilar',\n",
              " 'Andrey Johansen',\n",
              " 'E. Kohlprath',\n",
              " 'A. De Giovanni',\n",
              " 'Joaquim Fort',\n",
              " 'Charles Lane',\n",
              " 'Yu Tian',\n",
              " 'Alexander Kamenshchik',\n",
              " 'A. Schafke',\n",
              " 'M. Pitschmann',\n",
              " 'Belgium',\n",
              " 'S. Yu. Gubanov',\n",
              " 'G. Carlino',\n",
              " 'K. H. Rehren',\n",
              " 'Duiliu Emanuel Diaconescu',\n",
              " 'M. Wadati',\n",
              " 'ASITP.',\n",
              " 'Gaetano Fiore',\n",
              " 'H. Fujisaki',\n",
              " 'Ilka Brunner',\n",
              " 'Gunter Schuetz',\n",
              " 'Osamu Seto',\n",
              " 'J. Negro',\n",
              " 'Andrea Belli',\n",
              " 'A. K. Tsikh',\n",
              " 'P. V. Landshoff',\n",
              " 'Sergei D. Odintsov',\n",
              " 'G. A. Viano',\n",
              " 'Gokhan Unel',\n",
              " 'Tekin Dereli',\n",
              " 'Neil D. Lambert',\n",
              " 'T. Fujiwara',\n",
              " 'R. J. Budzynski',\n",
              " 'Asmita Mukherjee',\n",
              " 'Zhong Hau Wang',\n",
              " 'B. M. A. G. Piette',\n",
              " 'M. D. Gould',\n",
              " 'M. Moriconi',\n",
              " 'P. Dimopoulos',\n",
              " 'Antonella Grassi',\n",
              " 'B. Mirza',\n",
              " 'Jim Stasheff',\n",
              " 'Akinobu Shimizu',\n",
              " 'Avinash Khare C. Nagaraja Kumar',\n",
              " 'A. Petermann',\n",
              " 'Atsushi Matsuo',\n",
              " 'J. T. Sobczyk',\n",
              " 'Stephen G. Naculich',\n",
              " 'Igor Pesando',\n",
              " 'Frank Gronwald',\n",
              " 'David J. Toms',\n",
              " 'HM. Chan',\n",
              " 'J. G. Russo',\n",
              " 'Michael R. Douglas',\n",
              " 'A. N. Mitra',\n",
              " 'S. N. Roshchupkin',\n",
              " 'N. Chepilko',\n",
              " 'P. Strigazzi',\n",
              " 'Hugo Christiansen',\n",
              " 'Norman Dombey',\n",
              " 'Huidong Guo',\n",
              " 'Raghunath Ratabole',\n",
              " 'Richard Costambeys',\n",
              " 'Shervgi Shahverdiyev',\n",
              " 'Axel Weber',\n",
              " 'Martin Schvellinger',\n",
              " 'Myung Geun Jeong',\n",
              " 'K. Ogure',\n",
              " 'M. Haghighat',\n",
              " 'Yasunari Kurita',\n",
              " 'M. Schnabl',\n",
              " 'Keiichi Nagao',\n",
              " 'D. L. Wiltshire',\n",
              " 'Tom Banks',\n",
              " 'Gerald B. Cleaver',\n",
              " 'S. Zhukov',\n",
              " 'Serge Lazzarini',\n",
              " 'Carlo Rovelli',\n",
              " 'A. R. da Silva',\n",
              " 'J. Ruan',\n",
              " 'K. Davis',\n",
              " 'Jun Murakami',\n",
              " 'V. A. Kudryavtsev',\n",
              " 'Mihai Visinescu',\n",
              " 'E. J. Weniger',\n",
              " 'A. Zichichi',\n",
              " 'A. A. Migdal',\n",
              " 'Frank Antonsen',\n",
              " 'Z. Maki',\n",
              " 'Igor Schnakenburg',\n",
              " 'E. Sezgin',\n",
              " 'F. Hussain',\n",
              " 'P. I. Pronin',\n",
              " 'M. Eliashvili',\n",
              " 'Romuald Janik',\n",
              " 'K. Turashvili',\n",
              " 'University of Lodz',\n",
              " 'Kevin Iga',\n",
              " 'Alexei Vladimirov',\n",
              " 'U. Ritschel',\n",
              " 'Dirk Schlingemann',\n",
              " 'P. Bain',\n",
              " 'J. C. A. Barata',\n",
              " 'ELTE. Budapest',\n",
              " 'Christian Blohmann',\n",
              " 'Lecce',\n",
              " 'Latex',\n",
              " 'Ishwaree P. Neupane',\n",
              " 'Inst. of Physics',\n",
              " 'J. Burzlaff',\n",
              " 'O. Schnetz',\n",
              " 'S. Griffies',\n",
              " 'Nick Evans',\n",
              " 'Konstantin G. Zloshchastiev',\n",
              " 'Monika Lynker',\n",
              " 'J. M. Sanchez de Santos',\n",
              " 'Anjan Kundu',\n",
              " 'N. V. Borisov',\n",
              " 'Christophe Ringeval',\n",
              " 'Matthew Kleban',\n",
              " 'Y. J. Feng',\n",
              " 'Madrid',\n",
              " 'A. N. Vaidya',\n",
              " 'Rafael Hernandez Heredero',\n",
              " 'Luka Sustersic',\n",
              " 'Laszlo A. Gergely',\n",
              " 'John Hiller',\n",
              " 'Christofer Cronstrom',\n",
              " 'William Schmitt',\n",
              " 'Shimon Levit',\n",
              " 'I. N. Kondrashuk',\n",
              " 'Eric Smith',\n",
              " 'Marco Laucelli Meana',\n",
              " 'Jacques Bros',\n",
              " 'Jesper Lykke Jacobsen',\n",
              " 'Takeshi Mogami',\n",
              " 'E. H. Saidi',\n",
              " 'Oleg Zaboronsky',\n",
              " 'Johannes Huebschmann',\n",
              " 'Jose Bordes',\n",
              " 'U. F. Wichoski',\n",
              " 'Lapo Casetti',\n",
              " 'A. L. Kholodenko',\n",
              " 'Dorje C. Brody',\n",
              " 'D. Nowak Szczepaniak',\n",
              " 'Jing Bo Chen',\n",
              " 'Satoru SAITO.',\n",
              " 'A. S. Galperin',\n",
              " 'John D. Smith',\n",
              " 'Richard Garavuso',\n",
              " 'P. Provero',\n",
              " 'Paola Giacconi',\n",
              " 'Alessandro Marchetti',\n",
              " 'T. Vukav sinac',\n",
              " 'Waclaw Tybor',\n",
              " 'Suemi Rodriguez Romo',\n",
              " 'Jeong Hyeong Park',\n",
              " 'Vahid Rezania',\n",
              " 'Shinsuke Kawai',\n",
              " 'Filipe Freire',\n",
              " 'Sung Soo Kim',\n",
              " 'Izumi Tsutsui',\n",
              " 'R. Coquereaux',\n",
              " 'A. Chervov',\n",
              " 'R. Gueven',\n",
              " 'N. Ishibashi',\n",
              " 'C. Alexandrou',\n",
              " 'A. Hulsebos',\n",
              " 'Peter A. Horvathy',\n",
              " 'Ramon Munoz Tapia',\n",
              " 'T. W. Allen',\n",
              " 'M. Pillin',\n",
              " 'E. Aifantis',\n",
              " 'Pang Ning Tan',\n",
              " 'H. Ooguri',\n",
              " 'A. Tofighi',\n",
              " 'Vipul Periwal',\n",
              " 'Paul Mc Cloud',\n",
              " 'M. Kruczenski',\n",
              " 'M. C. Baldiotti',\n",
              " 'R. H. Poghossian',\n",
              " 'Subir Mukhopadhyay',\n",
              " 'Kenji Hotta',\n",
              " 'M. R. Rahimitabar',\n",
              " 'Denis Uglov',\n",
              " 'Konstantin G. Savvidy',\n",
              " 'Choon Lin Ho',\n",
              " 'Christian Mercat',\n",
              " 'I. Maksymyk',\n",
              " 'Kaupo Palo',\n",
              " 'Kenji Fukazawa',\n",
              " 'I. Kirsch',\n",
              " 'A. Balinsky',\n",
              " 'Frantisek Gemperle',\n",
              " 'V. V. Arkhipov',\n",
              " 'E. Gava',\n",
              " 'V. Yasnov',\n",
              " 'A. S. Sorin',\n",
              " 'James Bardeen',\n",
              " 'Daniel F. Litim',\n",
              " 'I. Kolokolov',\n",
              " 'Marcia E. Knutt',\n",
              " 'Victor Chernyak',\n",
              " 'L. Caneschi',\n",
              " 'M. Arik',\n",
              " 'Colombia',\n",
              " 'Annamaria Sinkovics',\n",
              " 'F. Krahe',\n",
              " 'F. Roose',\n",
              " 'R. O. Ramos',\n",
              " 'Claude Roger',\n",
              " 'Curtis G. Callan',\n",
              " 'D. Stockinger',\n",
              " 'Gheorghe Ionesei',\n",
              " 'Joseph A. Minahan',\n",
              " 'A. Saa',\n",
              " 'J. C. Breckenridge',\n",
              " 'K. Sailer',\n",
              " 'Wolfgang Lerche',\n",
              " 'Ken Ichi Kubota',\n",
              " 'Johannes Walcher',\n",
              " 'E. Spallucci',\n",
              " 'Tze Dan Chung',\n",
              " 'M. Ablikim',\n",
              " 'H. C. Pauli',\n",
              " 'Isao Kishimoto',\n",
              " 'V. Narayanan',\n",
              " 'Daniel R. Bes',\n",
              " 'R. Mac Kenzie',\n",
              " 'Jose M. Izquierdo',\n",
              " 'D. Ts. Stoyanov',\n",
              " 'A. K. Konechny',\n",
              " 'Nurcan Ozturk',\n",
              " 'Volkmar Putz',\n",
              " 'D. F. Litim',\n",
              " 'Nevidita Deo',\n",
              " 'D. Armand Ugon',\n",
              " 'Ghenadie N. Mardari',\n",
              " 'F. Schaposnik',\n",
              " 'G. M. Sotkov',\n",
              " 'Vitaly Tarasov',\n",
              " 'Dmitrij P. Sorokin',\n",
              " 'Cihan Saclioglu',\n",
              " 'M. Khlopov',\n",
              " 'Tomoyuki Inui',\n",
              " 'Antonio Liguori',\n",
              " 'Joao D. Correia',\n",
              " 'M. Yu. Kalmykov',\n",
              " 'Hiroyuki Fuji',\n",
              " 'Luca Molinari',\n",
              " 'S. Sarkar',\n",
              " 'Jose Luis Boldo',\n",
              " 'B. Eden',\n",
              " 'F. Scheck',\n",
              " 'Marco A. RMonteiro',\n",
              " 'M. Cavaglia',\n",
              " 'Matin Gurses',\n",
              " 'Matthias Brandle',\n",
              " 'Ricardo Bentin',\n",
              " 'F. Bigazzi',\n",
              " 'J. N. Tavares',\n",
              " 'Ivo Savonije',\n",
              " 'M. A. Shifman',\n",
              " 'H. M. Sadjadi',\n",
              " 'Soonkeon Nam',\n",
              " 'K. Frieler',\n",
              " 'Dominic Joyce',\n",
              " 'I. Bars',\n",
              " 'M. Bojowald',\n",
              " 'Boris Noyvert',\n",
              " 'Hong Zhang',\n",
              " 'P. W. Irwin',\n",
              " 'J. Diemand',\n",
              " 'Seungjoon Hyun',\n",
              " 'JM. Maillard',\n",
              " 'D. Proskurin',\n",
              " 'Govindan Rajesh',\n",
              " 'Shivaji L. Sondhi',\n",
              " 'G. Landolfi',\n",
              " 'D. B. Westra',\n",
              " 'M. Pauri',\n",
              " 'A. Shuvaev',\n",
              " 'Stefano Giusto',\n",
              " 'M. Leblanc',\n",
              " 'S. Micciche',\n",
              " 'D. V. Soroka',\n",
              " 'Noriaki Ikeda',\n",
              " 'M. Mekhfi',\n",
              " 'Victor Kac',\n",
              " 'Junji Suzuki',\n",
              " 'Nuno D. Antunes',\n",
              " 'Fidel Schaposnik',\n",
              " 'T. Tabei',\n",
              " 'IHEP.',\n",
              " 'M. S. Marinov',\n",
              " 'Hung Soo Kim',\n",
              " 'G. Grignani',\n",
              " 'Philip A. Tuckey',\n",
              " 'E. Kellegher',\n",
              " 'A. Patrascioiu',\n",
              " 'T. Banks',\n",
              " 'N. J. Mac Kay',\n",
              " 'Wen Li Yang',\n",
              " 'M. Noga',\n",
              " 'Jan T. Sobczyk',\n",
              " 'Bhubaneswar',\n",
              " 'Hassen Jallouli',\n",
              " 'Ira Wasserman',\n",
              " 'Ikuo Ichinose',\n",
              " 'M. Rudolph',\n",
              " 'R. Potting',\n",
              " 'Jaime Camacaro',\n",
              " 'Paolo Aschieri',\n",
              " 'Mikhail S. Plyushchay',\n",
              " 'Shigeo Fujita',\n",
              " 'Patrick Meessen',\n",
              " 'Michael Plumacher',\n",
              " 'P. O. Mazur',\n",
              " 'K. Johnson',\n",
              " 'Tsunehiro Kobayashi',\n",
              " 'J. Novotny',\n",
              " 'Olga Arias',\n",
              " 'Sho Tanaka',\n",
              " 'Y. Yamada',\n",
              " 'Michio Jimbo',\n",
              " 'Luc Marleau',\n",
              " 'A. V. Gichuk',\n",
              " 'H. Merabet',\n",
              " 'E. Di Grezia',\n",
              " 'A. Rezaei Aghdam',\n",
              " 'Masaru Nagura',\n",
              " 'Antti Salmela',\n",
              " 'A. Takahashi',\n",
              " 'G. Legg',\n",
              " 'V. A. Rubakov',\n",
              " 'Yeonjung Kim',\n",
              " 'R. Kobayashi',\n",
              " 'P. West',\n",
              " 'Valentin V. Khoze',\n",
              " 'H. J. Otto',\n",
              " 'B. Dey',\n",
              " 'Jose M. F. Labastida',\n",
              " 'M. Doresic',\n",
              " 'Matthias Ihl',\n",
              " 'Karl Millar',\n",
              " 'Dan Radu Grigore',\n",
              " 'Ilka Agricola',\n",
              " 'M. Yamanobe',\n",
              " 'UFES.',\n",
              " 'Dipartimento di Fisica dell Universita',\n",
              " 'T. Hakioglu',\n",
              " 'M. Cvetic',\n",
              " 'S. Iida',\n",
              " 'C. B. Lang',\n",
              " 'Jan C. Plefka',\n",
              " 'P. Stovicek',\n",
              " 'R. Dutt',\n",
              " 'Seoktae Koh',\n",
              " 'P. Calabrese',\n",
              " 'S. De Nicola',\n",
              " 'B. Bellet',\n",
              " 'A. V. Romanenko',\n",
              " 'Jorge L. Lopez',\n",
              " 'A. A. Johansen',\n",
              " 'Sh. Mamedov',\n",
              " 'Gianguido Dall Agata',\n",
              " 'G. Girardi',\n",
              " 'A. Pickering',\n",
              " 'K. Sh. Turashvili',\n",
              " 'Gil Rivlis',\n",
              " 'Yurii A. Sitenko',\n",
              " 'S. Mano',\n",
              " 'H. Li',\n",
              " 'A. Hatzinikitas',\n",
              " 'A. Meziane',\n",
              " 'R. B. Mann',\n",
              " 'Giuseppe Bimonte',\n",
              " 'P. Forgacs',\n",
              " 'A. Matos Neto',\n",
              " 'Armen Nersessian',\n",
              " 'M. Peloso',\n",
              " 'Mark Windoloski',\n",
              " 'Frank W. Nijhoff',\n",
              " 'P. Consoli',\n",
              " 'George Leibbrandt',\n",
              " 'K. Olaussen',\n",
              " 'Takashi Yokono',\n",
              " 'Alexei Morozov',\n",
              " 'H. Robins',\n",
              " 'R. E. Kallosh',\n",
              " 'C. Sliwa',\n",
              " 'S. Stramaglia',\n",
              " 'M. B. Barbaro',\n",
              " 'P. A. G. Pisani',\n",
              " 'I. Marshall',\n",
              " 'A. V. Shpagin',\n",
              " 'V. Gribanov',\n",
              " 'Carmen Nunez.',\n",
              " 'J. W. Goodison',\n",
              " 'W. Cassing',\n",
              " 'P. Narayana Swamy',\n",
              " 'Yujiro Shimada',\n",
              " 'V. Gorini',\n",
              " 'J. Horne',\n",
              " 'Shoichi Kawamoto',\n",
              " 'Makoto Narita',\n",
              " 'G. M. OBrien',\n",
              " 'Montreal',\n",
              " 'D. Anselmi',\n",
              " 'Sorin Marculescu',\n",
              " 'T. Horiguchi',\n",
              " 'Krzysztof Pilch',\n",
              " 'D. Varga',\n",
              " 'Guangjiong Ni',\n",
              " 'Alain Lascoux',\n",
              " 'Dan Christensen',\n",
              " 'Kyushu University',\n",
              " 'Ehud Schreiber',\n",
              " 'Huner Fanchiotti',\n",
              " 'Malcolm J. Perry',\n",
              " 'Nobuyuki Sakai',\n",
              " 'A. Albrecht',\n",
              " 'Jin Hur',\n",
              " 'K. Ulker',\n",
              " 'P. A. A. Meessen',\n",
              " 'Italy Joint Institute for Nuclear Research',\n",
              " 'Luigi Del Debbio',\n",
              " 'J. V. Yarevskaya',\n",
              " 'W. A. Rodrigues Jr.',\n",
              " 'Niky Kamran',\n",
              " 'Ioannis Giannakis',\n",
              " 'Ya. A. Korennoy',\n",
              " 'B. Si Lakhal',\n",
              " 'T. Shimada',\n",
              " 'Roland Kirschner',\n",
              " 'R. Bhattacharyya',\n",
              " 'B. de Wit',\n",
              " 'A. C. Davis',\n",
              " 'Richard Corrado',\n",
              " 'Pio Jose Arias y Jorge Stephany',\n",
              " 'R. G. Leigh',\n",
              " 'Haim Goldberg',\n",
              " 'L. Molinari',\n",
              " 'Jean Nuyts',\n",
              " 'Luis Gonzalez Mestres',\n",
              " 'Jimmy D. Williams',\n",
              " 'E. R. Mucciolo',\n",
              " 'H. Rhedin',\n",
              " 'Nat. Univ. Mexico',\n",
              " 'K. Sogut',\n",
              " 'Mayburov S.',\n",
              " 'M. Bachmann',\n",
              " 'R. Zwicky',\n",
              " 'N. J. Watson',\n",
              " 'M. Beyer',\n",
              " 'D. Zagier',\n",
              " 'Y. Gabellini',\n",
              " 'Daniel H. T. Franco',\n",
              " 'Jeong Hyuck Park',\n",
              " 'Z. Yin',\n",
              " 'H. Ghafarnejad',\n",
              " 'Graham D. Kribs',\n",
              " 'K. S. Viswanathan',\n",
              " 'Jaroslaw Mlynik',\n",
              " 'C. Skordis',\n",
              " 'A. Mukherjee',\n",
              " 'Keith A. Olive',\n",
              " 'Archil Kobakhidze',\n",
              " 'Didier Caenepeel',\n",
              " 'Ewald Roessl',\n",
              " 'D. H. Correa',\n",
              " 'Gabor Kunstatter',\n",
              " 'J. A. Adams',\n",
              " 'Sebastiao Alves Dias',\n",
              " 'Robert P. Langlands',\n",
              " 'M. Berg',\n",
              " 'R. B. Levien',\n",
              " 'B. Chandrasekhar',\n",
              " 'Edward Hsu',\n",
              " 'Stjepan Meljanac',\n",
              " 'A. Smailagic',\n",
              " 'Robert Coquereaux',\n",
              " 'K. Peeters',\n",
              " 'Henrique Boschi Filho',\n",
              " 'Neal Weiner',\n",
              " 'D. B. Fairlie',\n",
              " 'A. Sissakian',\n",
              " 'G. Konisi',\n",
              " 'Galliano Valent',\n",
              " 'Takayoshi Ootsuka',\n",
              " 'Joao P. Rodrigues',\n",
              " 'Eduardo S. Tututi',\n",
              " 'A. Ghodsi',\n",
              " 'C. Nunez',\n",
              " 'C. R. Preitschopf',\n",
              " 'Michael Douglas',\n",
              " 'Anatol N. Kirillov',\n",
              " 'Kimball A. Milton',\n",
              " 'V. Ogievetsky',\n",
              " 'A. Grassi',\n",
              " 'T. Sato',\n",
              " 'J. Ellis',\n",
              " 'Igor I. Smolyaninov',\n",
              " 'Peter Schaller',\n",
              " 'F. E. Low',\n",
              " 'Luca Carlevaro',\n",
              " 'H. Yamakoshi',\n",
              " 'Sergei A. Sharakin',\n",
              " 'C. Aragone A. Khoudeir',\n",
              " 'V. Bazhanov',\n",
              " 'M. Yu. Kuchiev',\n",
              " 'Detlev Buchholz',\n",
              " 'A. I. Balinsky',\n",
              " 'Shih Yuin Lin',\n",
              " 'Yakir Aharonov',\n",
              " 'R. Zaikov',\n",
              " 'H. Hata',\n",
              " 'L. Spanu',\n",
              " 'Indrajit Mitra',\n",
              " 'Aharon Nudelman',\n",
              " 'P. Bleher',\n",
              " 'Xianghua Zhai',\n",
              " 'D. V. Long',\n",
              " 'Sergey Frolov',\n",
              " 'M. Trigiante',\n",
              " 'Nicholas T. Jones',\n",
              " 'Yousef Bisabr',\n",
              " 'Ivan Avramidi',\n",
              " 'A. Solovyov',\n",
              " 'Jeffrey Harvey',\n",
              " 'Martin Bojowald',\n",
              " 'Y. Chen',\n",
              " 'G. Lavrelashvili',\n",
              " 'J. D. M. Vianna',\n",
              " 'Yu. Makeenko',\n",
              " 'Pascual Lucas',\n",
              " 'Brandon University',\n",
              " 'S. K. Adhikari',\n",
              " 'K. Z. Win',\n",
              " 'K. Morita',\n",
              " ...}"
            ]
          },
          "metadata": {
            "tags": []
          },
          "execution_count": 23
        }
      ]
    },
    {
      "cell_type": "markdown",
      "metadata": {
        "id": "tqRiutr1NzGB"
      },
      "source": [
        "## Representation fixes"
      ]
    },
    {
      "cell_type": "code",
      "metadata": {
        "id": "DAMX2pQ8N_AR"
      },
      "source": [
        "# Make Authors in one string with comma as sepparator\n",
        "df[\"authors\"] = df[\"authors\"].map(lambda x: str(x).replace(\"[\", \"\")).map(lambda x: str(x).replace(\"]\", \"\")).map(lambda x: str(x).replace(\"'\", \"\"))"
      ],
      "execution_count": 52,
      "outputs": []
    },
    {
      "cell_type": "code",
      "metadata": {
        "id": "Z7XduuVW4pCC"
      },
      "source": [
        "# Make Subjects in one string with comma as sepparator\n",
        "df[\"subjects\"] = df[\"subjects\"].map(lambda x: str(x).replace(\"[\", \"\")).map(lambda x: str(x).replace(\"]\", \"\")).map(lambda x: str(x).replace(\"'\", \"\"))"
      ],
      "execution_count": 53,
      "outputs": []
    },
    {
      "cell_type": "code",
      "metadata": {
        "colab": {
          "base_uri": "https://localhost:8080/",
          "height": 1000
        },
        "id": "4M4Ae14y5y2w",
        "outputId": "a535a56e-9d21-4927-a9e1-5e596ce9b9ee"
      },
      "source": [
        "df"
      ],
      "execution_count": 54,
      "outputs": [
        {
          "output_type": "execute_result",
          "data": {
            "text/html": [
              "<div>\n",
              "<style scoped>\n",
              "    .dataframe tbody tr th:only-of-type {\n",
              "        vertical-align: middle;\n",
              "    }\n",
              "\n",
              "    .dataframe tbody tr th {\n",
              "        vertical-align: top;\n",
              "    }\n",
              "\n",
              "    .dataframe thead th {\n",
              "        text-align: right;\n",
              "    }\n",
              "</style>\n",
              "<table border=\"1\" class=\"dataframe\">\n",
              "  <thead>\n",
              "    <tr style=\"text-align: right;\">\n",
              "      <th></th>\n",
              "      <th>paper_id</th>\n",
              "      <th>authors</th>\n",
              "      <th>title</th>\n",
              "      <th>abstract</th>\n",
              "      <th>subjects</th>\n",
              "      <th>comments</th>\n",
              "    </tr>\n",
              "  </thead>\n",
              "  <tbody>\n",
              "    <tr>\n",
              "      <th>0</th>\n",
              "      <td>9810034</td>\n",
              "      <td>Anastasia Doikou, Rafael I. Nepomechie</td>\n",
              "      <td>Parity and Charge Conjugation Symmetries and S...</td>\n",
              "      <td>We formulate the notion of parity for the peri...</td>\n",
              "      <td>High Energy Physics - Theory, Exactly Solvable...</td>\n",
              "      <td>20</td>\n",
              "    </tr>\n",
              "    <tr>\n",
              "      <th>1</th>\n",
              "      <td>0201111</td>\n",
              "      <td>G. Papadopoulos</td>\n",
              "      <td>KT and HKT Geometries in Strings and in Black ...</td>\n",
              "      <td>Some selected applications of KT and HKT geome...</td>\n",
              "      <td>High Energy Physics - Theory, Differential Geo...</td>\n",
              "      <td>26</td>\n",
              "    </tr>\n",
              "    <tr>\n",
              "      <th>2</th>\n",
              "      <td>9210111</td>\n",
              "      <td>A. P. Balachandran</td>\n",
              "      <td>Gauge Symmetries,Topology and Quantisation</td>\n",
              "      <td>The following two loosely connected sets of to...</td>\n",
              "      <td></td>\n",
              "      <td>74</td>\n",
              "    </tr>\n",
              "    <tr>\n",
              "      <th>3</th>\n",
              "      <td>9303104</td>\n",
              "      <td>P. Berglund</td>\n",
              "      <td>Dimensionally Reduced Landau-Ginzburg Orbifold...</td>\n",
              "      <td>It is observed that a large class of $(2,2)$ s...</td>\n",
              "      <td></td>\n",
              "      <td>10</td>\n",
              "    </tr>\n",
              "    <tr>\n",
              "      <th>4</th>\n",
              "      <td>9509068</td>\n",
              "      <td>Tae Seong Kim, Won Ho Kye, Jae Kwan Kim</td>\n",
              "      <td>The Dynamical Behaviors in (2+1)-Dimensional G...</td>\n",
              "      <td>We analyze (2+1)-dimensional Gross-Neveu model...</td>\n",
              "      <td></td>\n",
              "      <td>19</td>\n",
              "    </tr>\n",
              "    <tr>\n",
              "      <th>...</th>\n",
              "      <td>...</td>\n",
              "      <td>...</td>\n",
              "      <td>...</td>\n",
              "      <td>...</td>\n",
              "      <td>...</td>\n",
              "      <td>...</td>\n",
              "    </tr>\n",
              "    <tr>\n",
              "      <th>29550</th>\n",
              "      <td>0210293</td>\n",
              "      <td>Dmitri Antonov</td>\n",
              "      <td>Finite-temperature properties of the supersymm...</td>\n",
              "      <td>The finite-temperature properties of supersymm...</td>\n",
              "      <td></td>\n",
              "      <td>8</td>\n",
              "    </tr>\n",
              "    <tr>\n",
              "      <th>29551</th>\n",
              "      <td>9310065</td>\n",
              "      <td>Aurelian Isar</td>\n",
              "      <td>Wigner distribution function for the harmonic ...</td>\n",
              "      <td>Time evolution of the expectation values of va...</td>\n",
              "      <td></td>\n",
              "      <td>17</td>\n",
              "    </tr>\n",
              "    <tr>\n",
              "      <th>29552</th>\n",
              "      <td>0103002</td>\n",
              "      <td>Kazuto Oshima</td>\n",
              "      <td>Critical Coupling in (1+1)-Dimensional Light-F...</td>\n",
              "      <td>Spontaneous symmetry breaking in (1+1)-dimensi...</td>\n",
              "      <td></td>\n",
              "      <td>21</td>\n",
              "    </tr>\n",
              "    <tr>\n",
              "      <th>29553</th>\n",
              "      <td>9406137</td>\n",
              "      <td>Cesar Gomez, Henri Ruegg, Philippe Zaugg</td>\n",
              "      <td>Lattice Poincare as a quantum deformed algebra</td>\n",
              "      <td>We propose a definition of a Poincar\\'e algebr...</td>\n",
              "      <td></td>\n",
              "      <td>10</td>\n",
              "    </tr>\n",
              "    <tr>\n",
              "      <th>29554</th>\n",
              "      <td>9507054</td>\n",
              "      <td>Sudhakar Panda, Shibaji Roy</td>\n",
              "      <td>BRST Cohomology Ring in ${\\hat c_M}&lt;1$ NSR Str...</td>\n",
              "      <td>The full cohomology ring of the Lian-Zuckerman...</td>\n",
              "      <td></td>\n",
              "      <td>16</td>\n",
              "    </tr>\n",
              "  </tbody>\n",
              "</table>\n",
              "<p>29555 rows × 6 columns</p>\n",
              "</div>"
            ],
            "text/plain": [
              "      paper_id  ... comments\n",
              "0      9810034  ...       20\n",
              "1      0201111  ...       26\n",
              "2      9210111  ...       74\n",
              "3      9303104  ...       10\n",
              "4      9509068  ...       19\n",
              "...        ...  ...      ...\n",
              "29550  0210293  ...        8\n",
              "29551  9310065  ...       17\n",
              "29552  0103002  ...       21\n",
              "29553  9406137  ...       10\n",
              "29554  9507054  ...       16\n",
              "\n",
              "[29555 rows x 6 columns]"
            ]
          },
          "metadata": {
            "tags": []
          },
          "execution_count": 54
        }
      ]
    },
    {
      "cell_type": "code",
      "metadata": {
        "id": "iLdpXH4JN_AW"
      },
      "source": [
        "df.to_csv(\"clear_citation_metadata.csv\")"
      ],
      "execution_count": 55,
      "outputs": []
    },
    {
      "cell_type": "code",
      "metadata": {
        "id": "_Y-HBxp-N_AW"
      },
      "source": [
        "cit = pd.read_csv(\"clear_citation_metadata.csv\", index_col=0)"
      ],
      "execution_count": 63,
      "outputs": []
    },
    {
      "cell_type": "code",
      "metadata": {
        "colab": {
          "base_uri": "https://localhost:8080/",
          "height": 1000
        },
        "id": "RntfMjWvN_AX",
        "outputId": "41666a0d-153e-42ed-a24d-8bc6f343c4ef"
      },
      "source": [
        "cit"
      ],
      "execution_count": 64,
      "outputs": [
        {
          "output_type": "execute_result",
          "data": {
            "text/html": [
              "<div>\n",
              "<style scoped>\n",
              "    .dataframe tbody tr th:only-of-type {\n",
              "        vertical-align: middle;\n",
              "    }\n",
              "\n",
              "    .dataframe tbody tr th {\n",
              "        vertical-align: top;\n",
              "    }\n",
              "\n",
              "    .dataframe thead th {\n",
              "        text-align: right;\n",
              "    }\n",
              "</style>\n",
              "<table border=\"1\" class=\"dataframe\">\n",
              "  <thead>\n",
              "    <tr style=\"text-align: right;\">\n",
              "      <th></th>\n",
              "      <th>paper_id</th>\n",
              "      <th>authors</th>\n",
              "      <th>title</th>\n",
              "      <th>abstract</th>\n",
              "      <th>subjects</th>\n",
              "      <th>comments</th>\n",
              "    </tr>\n",
              "  </thead>\n",
              "  <tbody>\n",
              "    <tr>\n",
              "      <th>0</th>\n",
              "      <td>9810034</td>\n",
              "      <td>Anastasia Doikou, Rafael I. Nepomechie</td>\n",
              "      <td>Parity and Charge Conjugation Symmetries and S...</td>\n",
              "      <td>We formulate the notion of parity for the peri...</td>\n",
              "      <td>High Energy Physics - Theory, Exactly Solvable...</td>\n",
              "      <td>20</td>\n",
              "    </tr>\n",
              "    <tr>\n",
              "      <th>1</th>\n",
              "      <td>201111</td>\n",
              "      <td>G. Papadopoulos</td>\n",
              "      <td>KT and HKT Geometries in Strings and in Black ...</td>\n",
              "      <td>Some selected applications of KT and HKT geome...</td>\n",
              "      <td>High Energy Physics - Theory, Differential Geo...</td>\n",
              "      <td>26</td>\n",
              "    </tr>\n",
              "    <tr>\n",
              "      <th>2</th>\n",
              "      <td>9210111</td>\n",
              "      <td>A. P. Balachandran</td>\n",
              "      <td>Gauge Symmetries,Topology and Quantisation</td>\n",
              "      <td>The following two loosely connected sets of to...</td>\n",
              "      <td>NaN</td>\n",
              "      <td>74</td>\n",
              "    </tr>\n",
              "    <tr>\n",
              "      <th>3</th>\n",
              "      <td>9303104</td>\n",
              "      <td>P. Berglund</td>\n",
              "      <td>Dimensionally Reduced Landau-Ginzburg Orbifold...</td>\n",
              "      <td>It is observed that a large class of $(2,2)$ s...</td>\n",
              "      <td>NaN</td>\n",
              "      <td>10</td>\n",
              "    </tr>\n",
              "    <tr>\n",
              "      <th>4</th>\n",
              "      <td>9509068</td>\n",
              "      <td>Tae Seong Kim, Won Ho Kye, Jae Kwan Kim</td>\n",
              "      <td>The Dynamical Behaviors in (2+1)-Dimensional G...</td>\n",
              "      <td>We analyze (2+1)-dimensional Gross-Neveu model...</td>\n",
              "      <td>NaN</td>\n",
              "      <td>19</td>\n",
              "    </tr>\n",
              "    <tr>\n",
              "      <th>...</th>\n",
              "      <td>...</td>\n",
              "      <td>...</td>\n",
              "      <td>...</td>\n",
              "      <td>...</td>\n",
              "      <td>...</td>\n",
              "      <td>...</td>\n",
              "    </tr>\n",
              "    <tr>\n",
              "      <th>29550</th>\n",
              "      <td>210293</td>\n",
              "      <td>Dmitri Antonov</td>\n",
              "      <td>Finite-temperature properties of the supersymm...</td>\n",
              "      <td>The finite-temperature properties of supersymm...</td>\n",
              "      <td>NaN</td>\n",
              "      <td>8</td>\n",
              "    </tr>\n",
              "    <tr>\n",
              "      <th>29551</th>\n",
              "      <td>9310065</td>\n",
              "      <td>Aurelian Isar</td>\n",
              "      <td>Wigner distribution function for the harmonic ...</td>\n",
              "      <td>Time evolution of the expectation values of va...</td>\n",
              "      <td>NaN</td>\n",
              "      <td>17</td>\n",
              "    </tr>\n",
              "    <tr>\n",
              "      <th>29552</th>\n",
              "      <td>103002</td>\n",
              "      <td>Kazuto Oshima</td>\n",
              "      <td>Critical Coupling in (1+1)-Dimensional Light-F...</td>\n",
              "      <td>Spontaneous symmetry breaking in (1+1)-dimensi...</td>\n",
              "      <td>NaN</td>\n",
              "      <td>21</td>\n",
              "    </tr>\n",
              "    <tr>\n",
              "      <th>29553</th>\n",
              "      <td>9406137</td>\n",
              "      <td>Cesar Gomez, Henri Ruegg, Philippe Zaugg</td>\n",
              "      <td>Lattice Poincare as a quantum deformed algebra</td>\n",
              "      <td>We propose a definition of a Poincar\\'e algebr...</td>\n",
              "      <td>NaN</td>\n",
              "      <td>10</td>\n",
              "    </tr>\n",
              "    <tr>\n",
              "      <th>29554</th>\n",
              "      <td>9507054</td>\n",
              "      <td>Sudhakar Panda, Shibaji Roy</td>\n",
              "      <td>BRST Cohomology Ring in ${\\hat c_M}&lt;1$ NSR Str...</td>\n",
              "      <td>The full cohomology ring of the Lian-Zuckerman...</td>\n",
              "      <td>NaN</td>\n",
              "      <td>16</td>\n",
              "    </tr>\n",
              "  </tbody>\n",
              "</table>\n",
              "<p>29555 rows × 6 columns</p>\n",
              "</div>"
            ],
            "text/plain": [
              "       paper_id  ... comments\n",
              "0       9810034  ...       20\n",
              "1        201111  ...       26\n",
              "2       9210111  ...       74\n",
              "3       9303104  ...       10\n",
              "4       9509068  ...       19\n",
              "...         ...  ...      ...\n",
              "29550    210293  ...        8\n",
              "29551   9310065  ...       17\n",
              "29552    103002  ...       21\n",
              "29553   9406137  ...       10\n",
              "29554   9507054  ...       16\n",
              "\n",
              "[29555 rows x 6 columns]"
            ]
          },
          "metadata": {
            "tags": []
          },
          "execution_count": 64
        }
      ]
    },
    {
      "cell_type": "markdown",
      "metadata": {
        "id": "ms60BSuKn99F"
      },
      "source": [
        "---"
      ]
    },
    {
      "cell_type": "markdown",
      "metadata": {
        "id": "rwPf4r3A3hH2"
      },
      "source": [
        "# Testing"
      ]
    },
    {
      "cell_type": "markdown",
      "metadata": {
        "id": "e0cSsGwIVHr4"
      },
      "source": [
        "## Name Concatenations Testing"
      ]
    },
    {
      "cell_type": "code",
      "metadata": {
        "id": "u7jJFtVFN_AZ"
      },
      "source": [
        "def test_preprocess_name_concatenations(names : List[str]) -> List[str]:\n",
        "    new_names = []\n",
        "    for name in names:\n",
        "        while True:\n",
        "            search = re.search(r'([a-z]|[A-Z])[A-Z]', name)\n",
        "            if search:\n",
        "                name = (name[0:search.start()+1] + \" \" + name[search.end()-1:])\n",
        "            else:\n",
        "                break\n",
        "        new_names.append(name)\n",
        "    return new_names"
      ],
      "execution_count": 33,
      "outputs": []
    },
    {
      "cell_type": "code",
      "metadata": {
        "id": "yFnIQBTJjyJ0"
      },
      "source": [
        "old_names = [\"KarlLie\", \"KarlLieBern\", \"Karl Lie\", \"Karllie\", \"KL Bern\"]\n",
        "new_names = test_preprocess_name_concatenations(old_names)"
      ],
      "execution_count": 34,
      "outputs": []
    },
    {
      "cell_type": "code",
      "metadata": {
        "colab": {
          "base_uri": "https://localhost:8080/"
        },
        "id": "t6TXdyF8kU_6",
        "outputId": "38fc4f0a-46f2-4bfa-ab15-496db572c635"
      },
      "source": [
        "print(old_names)\n",
        "print(new_names)"
      ],
      "execution_count": 35,
      "outputs": [
        {
          "output_type": "stream",
          "text": [
            "['KarlLie', 'KarlLieBern', 'Karl Lie', 'Karllie', 'KL Bern']\n",
            "['Karl Lie', 'Karl Lie Bern', 'Karl Lie', 'Karllie', 'K L Bern']\n"
          ],
          "name": "stdout"
        }
      ]
    },
    {
      "cell_type": "code",
      "metadata": {
        "colab": {
          "base_uri": "https://localhost:8080/"
        },
        "id": "OPK-CemRsP0l",
        "outputId": "0cbad39d-6497-4e9a-8df7-58fc4d929dfa"
      },
      "source": [
        "new_names"
      ],
      "execution_count": 36,
      "outputs": [
        {
          "output_type": "execute_result",
          "data": {
            "text/plain": [
              "['Karl Lie', 'Karl Lie Bern', 'Karl Lie', 'Karllie', 'K L Bern']"
            ]
          },
          "metadata": {
            "tags": []
          },
          "execution_count": 36
        }
      ]
    },
    {
      "cell_type": "markdown",
      "metadata": {
        "id": "uwX8AaK6VK3u"
      },
      "source": [
        "## Name Initials Testing"
      ]
    },
    {
      "cell_type": "code",
      "metadata": {
        "id": "VqnsplxhoFnH"
      },
      "source": [
        "def test_preprocess_name_initials(names : List[str]) -> List[str]:\n",
        "    new_names = []\n",
        "    for name in names:\n",
        "        while True:\n",
        "            search = re.search(r'[A-Z]\\b(?!\\.)', name)\n",
        "            if search:\n",
        "                name = name[0:search.start()+1] + \".\" + name[search.end():]\n",
        "            else:\n",
        "                break\n",
        "        new_names.append(name)\n",
        "    return new_names"
      ],
      "execution_count": 37,
      "outputs": []
    },
    {
      "cell_type": "code",
      "metadata": {
        "id": "tE27xTDWrInU"
      },
      "source": [
        "old_names = [\"M J Fox\", \"M. J. Fox\", \"Ni Yo G\", \"Viktor T Stanford\"]\n",
        "new_names = test_preprocess_name_initials(old_names)"
      ],
      "execution_count": 38,
      "outputs": []
    },
    {
      "cell_type": "code",
      "metadata": {
        "colab": {
          "base_uri": "https://localhost:8080/"
        },
        "id": "K1oHKDHMrJXA",
        "outputId": "b26199be-a2b0-444c-d93a-ee7c17d69139"
      },
      "source": [
        "print(old_names)\n",
        "print(new_names)"
      ],
      "execution_count": 39,
      "outputs": [
        {
          "output_type": "stream",
          "text": [
            "['M J Fox', 'M. J. Fox', 'Ni Yo G', 'Viktor T Stanford']\n",
            "['M. J. Fox', 'M. J. Fox', 'Ni Yo G.', 'Viktor T. Stanford']\n"
          ],
          "name": "stdout"
        }
      ]
    },
    {
      "cell_type": "code",
      "metadata": {
        "colab": {
          "base_uri": "https://localhost:8080/"
        },
        "id": "E68r-nj1wbI3",
        "outputId": "eefaee40-af4d-4c07-8d60-cb16929436a9"
      },
      "source": [
        "new_names"
      ],
      "execution_count": 40,
      "outputs": [
        {
          "output_type": "execute_result",
          "data": {
            "text/plain": [
              "['M. J. Fox', 'M. J. Fox', 'Ni Yo G.', 'Viktor T. Stanford']"
            ]
          },
          "metadata": {
            "tags": []
          },
          "execution_count": 40
        }
      ]
    },
    {
      "cell_type": "markdown",
      "metadata": {
        "id": "3poOuPZkVNA_"
      },
      "source": [
        "## File Opening testing"
      ]
    },
    {
      "cell_type": "code",
      "metadata": {
        "id": "ZnygojtDQbfi"
      },
      "source": [
        "test_file_opening(\"9912045.abs\")"
      ],
      "execution_count": null,
      "outputs": []
    },
    {
      "cell_type": "code",
      "metadata": {
        "id": "1mB5Z4MYPn17"
      },
      "source": [
        "test_file_opening(\"9907137.abs\")"
      ],
      "execution_count": null,
      "outputs": []
    },
    {
      "cell_type": "code",
      "metadata": {
        "id": "2BNGO7mbbUww"
      },
      "source": [
        "test_file_opening()"
      ],
      "execution_count": null,
      "outputs": []
    },
    {
      "cell_type": "markdown",
      "metadata": {
        "id": "QAlmBAelVQ27"
      },
      "source": [
        "## Preprocess Author Name Pipeline"
      ]
    },
    {
      "cell_type": "code",
      "metadata": {
        "colab": {
          "base_uri": "https://localhost:8080/",
          "height": 37
        },
        "id": "8TzmBIjIUfMB",
        "outputId": "429bed07-07dd-4837-f73a-0f95f52cccc3"
      },
      "source": [
        "preprocess_author_name_pipeline(\"\"\"A. Rida (1), T. Sami (2) ((1) USTHB, Alger Algerie, (2) SUBATECH,  Nantes France)\"\"\")"
      ],
      "execution_count": 44,
      "outputs": [
        {
          "output_type": "execute_result",
          "data": {
            "application/vnd.google.colaboratory.intrinsic+json": {
              "type": "string"
            },
            "text/plain": [
              "'A. Rida , , T. Sami , , USTHB., Alger Algerie, , SUBATECH., Nantes France'"
            ]
          },
          "metadata": {
            "tags": []
          },
          "execution_count": 44
        }
      ]
    },
    {
      "cell_type": "markdown",
      "metadata": {
        "id": "FyjBL8iTWvI7"
      },
      "source": [
        "## Find articles"
      ]
    },
    {
      "cell_type": "code",
      "metadata": {
        "id": "qG1IpGuLWyDV"
      },
      "source": [
        "# Find article by author\n",
        "author = \"SUBATECH.\"\n",
        "for article in articles:\n",
        "    if author in article[\"authors\"]:\n",
        "        print(article)"
      ],
      "execution_count": null,
      "outputs": []
    },
    {
      "cell_type": "code",
      "metadata": {
        "id": "8TUTLRBUigKr"
      },
      "source": [
        "# Is there an article with subjects?\n",
        "for article in articles:\n",
        "    if article[\"subjects\"]:\n",
        "        print(article)"
      ],
      "execution_count": null,
      "outputs": []
    },
    {
      "cell_type": "code",
      "metadata": {
        "id": "PzddChBwjTvh"
      },
      "source": [
        "# Find article with this subject\n",
        "chosen_subject = \"Statistical Mechanics  Paper\"\n",
        "for article in articles:\n",
        "    for subject in article[\"subjects\"]:\n",
        "        if chosen_subject in subject:\n",
        "            print(article[\"subjects\"])"
      ],
      "execution_count": 47,
      "outputs": []
    },
    {
      "cell_type": "code",
      "metadata": {
        "id": "ULgrpYt8i0n7"
      },
      "source": [
        "# Let's get all subjects\n",
        "subject_set = set()\n",
        "for article in articles:\n",
        "    if article[\"subjects\"]:\n",
        "        subject_set.update(article[\"subjects\"])\n",
        "subject_set"
      ],
      "execution_count": null,
      "outputs": []
    },
    {
      "cell_type": "markdown",
      "metadata": {
        "id": "I0TiJYEjdIJh"
      },
      "source": [
        "## Testing file meta processing"
      ]
    },
    {
      "cell_type": "code",
      "metadata": {
        "id": "9gnC9EHudyEt"
      },
      "source": [
        "testing_article = \"9907137\"\n",
        "file_content = None\n",
        "for fn, fc in files.items():\n",
        "    if fn == testing_article:\n",
        "        file_content = fc\n",
        "        break"
      ],
      "execution_count": 49,
      "outputs": []
    },
    {
      "cell_type": "code",
      "metadata": {
        "id": "dXwgpA0RdKne"
      },
      "source": [
        "from typing import List\n",
        "def file_meta_generation(file_content: str) -> List[str]:\n",
        "    file_meta = []\n",
        "    continous_line = True\n",
        "    file_meta_lines = list(filter(lambda x: x, file_content.split(\"\\n\")))\n",
        "    file_meta.append(file_meta_lines[0])\n",
        "    for file_meta_line_index in range(1, len(file_meta_lines)):\n",
        "        meta_line = file_meta_lines[file_meta_line_index]\n",
        "        if (meta_line.startswith(\"Author\")\n",
        "            or meta_line.startswith(\"Title\")\n",
        "            or meta_line.startswith(\"Subj-class\")\n",
        "            or meta_line.startswith(\"Comments\")\n",
        "            ):\n",
        "            file_meta.append(meta_line)\n",
        "            continous_line = True\n",
        "        elif meta_line.startswith(r\"  \") and continous_line:\n",
        "            file_meta[-1] = file_meta[-1] + meta_line\n",
        "        else:\n",
        "            continous_line = False\n",
        "    return file_meta"
      ],
      "execution_count": 50,
      "outputs": []
    },
    {
      "cell_type": "code",
      "metadata": {
        "colab": {
          "base_uri": "https://localhost:8080/"
        },
        "id": "B0xsutXeeEhQ",
        "outputId": "21bd2d5f-7d2e-4aef-9300-4a553fddddb2"
      },
      "source": [
        "# print(file_content)\n",
        "splitted_file_content = file_content.split(r\"\\\\\")\n",
        "# print(splitted_file_content)\n",
        "# broken_file_meta = list(filter(lambda x: x, splitted_file_content[1].split(\"\\n\")))\n",
        "# print(broken_file_meta)\n",
        "fixed_file_meta = file_meta_generation(splitted_file_content[1])\n",
        "print(fixed_file_meta)"
      ],
      "execution_count": 51,
      "outputs": [
        {
          "output_type": "stream",
          "text": [
            "['Paper: hep-th/9907137', 'Title: The non chiral fusion rules in rational conformal field theories', 'Authors: A. Rida (1), T. Sami (2) ((1) USTHB, Alger Algerie, (2) SUBATECH,  Nantes France)', 'Comments: 11 pages, corrected and completed version']\n"
          ],
          "name": "stdout"
        }
      ]
    }
  ]
}